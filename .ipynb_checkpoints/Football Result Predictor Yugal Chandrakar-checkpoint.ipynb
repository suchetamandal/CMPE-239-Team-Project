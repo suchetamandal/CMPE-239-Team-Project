{
 "cells": [
  {
   "cell_type": "code",
   "execution_count": 1,
   "metadata": {
    "collapsed": true
   },
   "outputs": [],
   "source": [
    "import pandas as pd\n",
    "import numpy as np\n",
    "import sqlite3\n",
    "from sklearn import neighbors\n",
    "from sklearn.linear_model import LogisticRegression\n",
    "from sklearn.svm import SVC\n",
    "from sklearn.tree import DecisionTreeClassifier\n",
    "from sklearn.decomposition import PCA\n",
    "from random import sample\n",
    "from time import time\n",
    "import sklearn.ensemble as sk\n",
    "import sklearn.metrics as skm\n",
    "import pylab as pl\n",
    "import matplotlib.pyplot as plt"
   ]
  },
  {
   "cell_type": "code",
   "execution_count": null,
   "metadata": {
    "collapsed": false
   },
   "outputs": [],
   "source": [
    "# Data Loading\n",
    "database ='database.sqlite'\n",
    "connection = sqlite3.connect(database)\n",
    "match = pd.read_sql(\"SELECT * FROM Match;\", connection)"
   ]
  },
  {
   "cell_type": "code",
   "execution_count": 5,
   "metadata": {
    "collapsed": true
   },
   "outputs": [],
   "source": [
    "#Dropping unwanted NaN rows from the dataset\n",
    "selectColumns=['home_team_api_id', 'away_team_api_id', 'home_team_goal', 'away_team_goal', \n",
    "                'date',  'country_id', 'league_id', 'season', 'stage']\n",
    "match.dropna(subset = selectColumns, inplace = True)"
   ]
  },
  {
   "cell_type": "code",
   "execution_count": 6,
   "metadata": {
    "collapsed": false
   },
   "outputs": [
    {
     "name": "stderr",
     "output_type": "stream",
     "text": [
      "C:\\Users\\suche\\Anaconda3\\lib\\site-packages\\ipykernel\\__main__.py:13: SettingWithCopyWarning: \n",
      "A value is trying to be set on a copy of a slice from a DataFrame.\n",
      "Try using .loc[row_indexer,col_indexer] = value instead\n",
      "\n",
      "See the caveats in the documentation: http://pandas.pydata.org/pandas-docs/stable/indexing.html#indexing-view-versus-copy\n"
     ]
    }
   ],
   "source": [
    "# Data Selection\n",
    "selectColumns=[\n",
    "               'home_team_api_id','away_team_api_id','home_team_goal','away_team_goal','date',\n",
    "               'country_id','league_id','season','stage','B365H','BWH','IWH','LBH','PSH',\n",
    "               'B365D','BWD','IWD','LBD','PSD','B365A','BWA','IWA','LBA', 'PSA','home_player_7',\n",
    "               'away_player_7','home_player_10','home_player_11','away_player_10','away_player_11'\n",
    "              ]\n",
    "\n",
    "#Selecting important columns only\n",
    "mBet=match[selectColumns]\n",
    "\n",
    "#Converting data values to required format\n",
    "mBet['date'] = pd.to_datetime(mBet['date'])\n",
    "mBet = mBet.assign(month=mBet['date'].dt.month)\n",
    "mBet['date'] = mBet['date'].dt.year\n",
    "mBet['season']= mBet['season'].str[:4]\n",
    "\n",
    "# Replacing null values with mean values\n",
    "mBet['BWH'].fillna(mBet['BWH'].mean(),inplace=True)\n",
    "mBet['BWA'].fillna(mBet['BWA'].mean(),inplace=True)\n",
    "mBet['BWD'].fillna(mBet['BWD'].mean(),inplace=True)\n",
    "mBet['IWH'].fillna(mBet['BWH'].mean(),inplace=True)\n",
    "mBet['IWA'].fillna(mBet['BWA'].mean(),inplace=True)\n",
    "mBet['IWD'].fillna(mBet['BWD'].mean(),inplace=True)\n",
    "mBet['LBH'].fillna(mBet['BWH'].mean(),inplace=True)\n",
    "mBet['LBA'].fillna(mBet['BWA'].mean(),inplace=True)\n",
    "mBet['LBD'].fillna(mBet['BWD'].mean(),inplace=True)\n",
    "mBet['PSH'].fillna(mBet['BWH'].mean(),inplace=True)\n",
    "mBet['PSA'].fillna(mBet['BWA'].mean(),inplace=True)\n",
    "mBet['PSD'].fillna(mBet['BWD'].mean(),inplace=True)\n",
    "mBet['B365H'].fillna(mBet['B365H'].mean(),inplace=True)\n",
    "mBet['B365A'].fillna(mBet['B365A'].mean(),inplace=True)\n",
    "mBet['B365D'].fillna(mBet['B365D'].mean(),inplace=True)\n",
    "mBet.fillna(0,inplace=True)\n",
    "\n",
    "matchData=mBet"
   ]
  },
  {
   "cell_type": "code",
   "execution_count": 7,
   "metadata": {
    "collapsed": false
   },
   "outputs": [
    {
     "name": "stdout",
     "output_type": "stream",
     "text": [
      "Length of Train data 18185\n",
      "Length of Test data 3898\n",
      "Length of Validate data 3896\n"
     ]
    }
   ],
   "source": [
    "# Creating train, test and validate data from a single data\n",
    "def train_test_validate_split(dataframe, trainPercent=.7, validatePercent=.15, seed=None):\n",
    "    # Referred from StackOverflow\n",
    "    np.random.seed(seed)\n",
    "    perm = np.random.permutation(dataframe.index)\n",
    "    length = len(dataframe)\n",
    "    trainEnd = int(trainPercent * length)\n",
    "    validateEnd = int(validatePercent * length) + trainEnd\n",
    "    train = dataframe.ix[perm[:trainEnd]]\n",
    "    test = dataframe.ix[perm[validateEnd:]]\n",
    "    validate = dataframe.ix[perm[trainEnd:validateEnd]]\n",
    "    return train, test, validate\n",
    "\n",
    "np.random.seed([243])\n",
    "train, test, validate = train_test_validate_split(matchData)\n",
    "\n",
    "# Length of all different data\n",
    "print(\"Length of Train data %d\" %len(train))\n",
    "print(\"Length of Test data %d\" %len(test))\n",
    "print(\"Length of Validate data %d\" %len(validate))"
   ]
  },
  {
   "cell_type": "code",
   "execution_count": 8,
   "metadata": {
    "collapsed": true
   },
   "outputs": [],
   "source": [
    "def fullTime(h,a):\n",
    "    if (h>a) : \n",
    "        return \"Win\"\n",
    "    elif (h<a) : \n",
    "        return \"Loss\"\n",
    "    else:\n",
    "        return \"Draw\"\n",
    "# Fetching full time results of the different data sets i.e. Test, Train and Validate\n",
    "testResult=test.apply(lambda row: fullTime(row['home_team_goal'], row['away_team_goal']), axis=1)\n",
    "trainResult=train.apply(lambda row: fullTime(row['home_team_goal'], row['away_team_goal']), axis=1)\n",
    "validateResult=validate.apply(lambda row: fullTime(row['home_team_goal'], row['away_team_goal']), axis=1)\n",
    "\n",
    "# Deleting goals column from all data, so that we can predict and get desired results\n",
    "# If we don't remove them, it'll give actual results which will fail our purpose\n",
    "\n",
    "del train['home_team_goal']\n",
    "del train['away_team_goal']\n",
    "del test['home_team_goal']\n",
    "del test['away_team_goal']\n",
    "del validate['home_team_goal']\n",
    "del validate['away_team_goal']"
   ]
  },
  {
   "cell_type": "code",
   "execution_count": 9,
   "metadata": {
    "collapsed": false
   },
   "outputs": [
    {
     "data": {
      "text/plain": [
       "Win     8288\n",
       "Loss    5255\n",
       "Draw    4642\n",
       "dtype: int64"
      ]
     },
     "execution_count": 9,
     "metadata": {},
     "output_type": "execute_result"
    }
   ],
   "source": [
    "trainResult.value_counts()"
   ]
  },
  {
   "cell_type": "code",
   "execution_count": 10,
   "metadata": {
    "collapsed": true
   },
   "outputs": [],
   "source": [
    "# Applying the different classifier's and predicting the results\n",
    "\n",
    "# clf = neighbors.KNeighborsClassifier(30, weights = 'uniform') \n",
    "# Results were validation set = 0.463715 & test set = 0.459407 # Dropper it\n",
    "\n",
    "#clf=LogisticRegression(random_state=0)\n",
    "# Results were validation set = 0.520115 & test set = 0.514813\n",
    "\n",
    "#clf=LogisticRegression(penalty='l1', C=10)\n",
    "# Results were validation set = 0.522618 & test set = 0.520970 # Not getting desired results, Dropped it\n",
    "\n",
    "# clf= DecisionTreeClassifier(random_state=100)\n",
    "# Results were validation set = 0.397690 & test set = 0.402462 # Worst Result\n",
    "\n",
    "# clf=SVC(kernel='rbf', random_state=0, gamma=.01, C=1)\n",
    "# Results were validation set = 0.461983 & test set = 0.455175 # Not getting desired results, Dropped it\n",
    "\n",
    "# Going forward with Random Forest Classfier and more tuning\n",
    "\n",
    "# When adding different parameters or levers, accuracy kept increasing\n",
    "# With n_estimators only accuracy was 0.501542 & 0.493981\n",
    "# When adding oob_score nothing much changed  accuracy was 0.502 & 0.495 but processing time was somewhat faster than before\n",
    "# When adding random_state accuracy was 0.510491 & 0.495575\n",
    "# When adding max_features accuracy didn't changed 0.510491 & 0.495575\n",
    "# When added min_samples_leaf, accuracy made a good gap (atleast for me) from before 0.520693 & 0.514044\n",
    "# By increasing n_estimators value from 100->1000 (10 Times), processing time increased and better accuracy 0.524350 & 0.530589\n",
    "# By increasing n_estimators value from 1000->5000 (5 Times), not much difference in accuracy 0.524158 & 0.531743\n",
    "# but processing time is unacceptably long.\n",
    "\n",
    "\n",
    "\n",
    "\n",
    "\n",
    "clf = sk.RandomForestClassifier(n_estimators=1000, oob_score = True,random_state =42,max_features = \"auto\", min_samples_leaf = 50)\n",
    "model = clf.fit(train, trainResult)"
   ]
  },
  {
   "cell_type": "code",
   "execution_count": 11,
   "metadata": {
    "collapsed": false
   },
   "outputs": [
    {
     "name": "stdout",
     "output_type": "stream",
     "text": [
      "Calculated mean accuracy score of the Model for validation set = 0.518480\n",
      "Calculated mean accuracy score of the Model for test set = 0.527193\n"
     ]
    }
   ],
   "source": [
    "validatePredictions = clf.predict(validate)\n",
    "print(\"Calculated mean accuracy score of the Model for validation set = %f\" %(clf.score(validate, validateResult)))\n",
    "\n",
    "testPredictions = clf.predict(test)\n",
    "print(\"Calculated mean accuracy score of the Model for test set = %f\" %(clf.score(test, testResult)))"
   ]
  },
  {
   "cell_type": "code",
   "execution_count": 12,
   "metadata": {
    "collapsed": false
   },
   "outputs": [
    {
     "data": {
      "image/png": "[encoded data removed]",
      "text/plain": [
       "<matplotlib.figure.Figure at 0x297ff573b38>"
      ]
     },
     "metadata": {},
     "output_type": "display_data"
    },
    {
     "name": "stdout",
     "output_type": "stream",
     "text": [
      "Prediction of Validate data\n"
     ]
    },
    {
     "data": {
      "text/html": [
       "<div>\n",
       "<table border=\"1\" class=\"dataframe\">\n",
       "  <thead>\n",
       "    <tr style=\"text-align: right;\">\n",
       "      <th>Predicted Results</th>\n",
       "      <th>Draw</th>\n",
       "      <th>Loss</th>\n",
       "      <th>Win</th>\n",
       "    </tr>\n",
       "    <tr>\n",
       "      <th>Actual Results</th>\n",
       "      <th></th>\n",
       "      <th></th>\n",
       "      <th></th>\n",
       "    </tr>\n",
       "  </thead>\n",
       "  <tbody>\n",
       "    <tr>\n",
       "      <th>Draw</th>\n",
       "      <td>2</td>\n",
       "      <td>271</td>\n",
       "      <td>711</td>\n",
       "    </tr>\n",
       "    <tr>\n",
       "      <th>Loss</th>\n",
       "      <td>4</td>\n",
       "      <td>476</td>\n",
       "      <td>640</td>\n",
       "    </tr>\n",
       "    <tr>\n",
       "      <th>Win</th>\n",
       "      <td>2</td>\n",
       "      <td>248</td>\n",
       "      <td>1542</td>\n",
       "    </tr>\n",
       "  </tbody>\n",
       "</table>\n",
       "</div>"
      ],
      "text/plain": [
       "Predicted Results  Draw  Loss   Win\n",
       "Actual Results                     \n",
       "Draw                  2   271   711\n",
       "Loss                  4   476   640\n",
       "Win                   2   248  1542"
      ]
     },
     "execution_count": 12,
     "metadata": {},
     "output_type": "execute_result"
    }
   ],
   "source": [
    "theResultofValidate = skm.confusion_matrix(validateResult,validatePredictions)\n",
    "pl.matshow(theResultofValidate)\n",
    "pl.title('Confusion matrix for Validate data\\n\\n')\n",
    "pl.colorbar()\n",
    "pl.show()\n",
    "print('Prediction of Validate data')\n",
    "pd.crosstab(validateResult, validatePredictions, rownames=['Actual Results'], colnames=['Predicted Results'])"
   ]
  },
  {
   "cell_type": "code",
   "execution_count": 13,
   "metadata": {
    "collapsed": false
   },
   "outputs": [
    {
     "data": {
      "image/png": "[encoded data removed]",
      "text/plain": [
       "<matplotlib.figure.Figure at 0x2978dd49550>"
      ]
     },
     "metadata": {},
     "output_type": "display_data"
    },
    {
     "name": "stdout",
     "output_type": "stream",
     "text": [
      "Prediction of Test data\n"
     ]
    },
    {
     "data": {
      "text/html": [
       "<div>\n",
       "<table border=\"1\" class=\"dataframe\">\n",
       "  <thead>\n",
       "    <tr style=\"text-align: right;\">\n",
       "      <th>Predicted Results</th>\n",
       "      <th>Draw</th>\n",
       "      <th>Loss</th>\n",
       "      <th>Win</th>\n",
       "    </tr>\n",
       "    <tr>\n",
       "      <th>Actual Results</th>\n",
       "      <th></th>\n",
       "      <th></th>\n",
       "      <th></th>\n",
       "    </tr>\n",
       "  </thead>\n",
       "  <tbody>\n",
       "    <tr>\n",
       "      <th>Draw</th>\n",
       "      <td>3</td>\n",
       "      <td>244</td>\n",
       "      <td>723</td>\n",
       "    </tr>\n",
       "    <tr>\n",
       "      <th>Loss</th>\n",
       "      <td>3</td>\n",
       "      <td>478</td>\n",
       "      <td>610</td>\n",
       "    </tr>\n",
       "    <tr>\n",
       "      <th>Win</th>\n",
       "      <td>2</td>\n",
       "      <td>261</td>\n",
       "      <td>1574</td>\n",
       "    </tr>\n",
       "  </tbody>\n",
       "</table>\n",
       "</div>"
      ],
      "text/plain": [
       "Predicted Results  Draw  Loss   Win\n",
       "Actual Results                     \n",
       "Draw                  3   244   723\n",
       "Loss                  3   478   610\n",
       "Win                   2   261  1574"
      ]
     },
     "execution_count": 13,
     "metadata": {},
     "output_type": "execute_result"
    }
   ],
   "source": [
    "theResultofTest = skm.confusion_matrix(testResult,testPredictions)\n",
    "pl.matshow(theResultofTest)\n",
    "pl.title('Confusion matrix for Test data\\n\\n')\n",
    "pl.colorbar()\n",
    "pl.show()\n",
    "print('Prediction of Test data')\n",
    "pd.crosstab(testResult, testPredictions, rownames=['Actual Results'], colnames=['Predicted Results'])"
   ]
  },
  {
   "cell_type": "code",
   "execution_count": null,
   "metadata": {
    "collapsed": true
   },
   "outputs": [],
   "source": []
  }
 ],
 "metadata": {
  "anaconda-cloud": {},
  "kernelspec": {
   "display_name": "Python 3",
   "language": "python",
   "name": "python3"
  },
  "language_info": {
   "codemirror_mode": {
    "name": "ipython",
    "version": 3
   },
   "file_extension": ".py",
   "mimetype": "text/x-python",
   "name": "python",
   "nbconvert_exporter": "python",
   "pygments_lexer": "ipython3",
   "version": "3.6.0"
  }
 },
 "nbformat": 4,
 "nbformat_minor": 0
}
