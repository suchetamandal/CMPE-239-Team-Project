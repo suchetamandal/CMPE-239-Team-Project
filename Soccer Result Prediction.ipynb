{
 "cells": [
  {
   "cell_type": "code",
   "execution_count": 5,
   "metadata": {
    "collapsed": true
   },
   "outputs": [],
   "source": [
    "import sqlite3\n",
    "import pandas as pd"
   ]
  },
  {
   "cell_type": "code",
   "execution_count": 6,
   "metadata": {
    "collapsed": false
   },
   "outputs": [],
   "source": [
    "database = 'database.sqlite'\n",
    "conn = sqlite3.connect(database)"
   ]
  },
  {
   "cell_type": "code",
   "execution_count": 7,
   "metadata": {
    "collapsed": true
   },
   "outputs": [],
   "source": [
    "player_data = pd.read_sql(\"SELECT * FROM Player;\", conn)\n",
    "player_stats_data = pd.read_sql(\"SELECT * FROM Player_Attributes;\", conn)\n",
    "team_data = pd.read_sql(\"SELECT * FROM Team;\", conn)\n",
    "match_data = pd.read_sql(\"SELECT * FROM Match;\", conn)"
   ]
  },
  {
   "cell_type": "code",
   "execution_count": 19,
   "metadata": {
    "collapsed": false
   },
   "outputs": [
    {
     "name": "stdout",
     "output_type": "stream",
     "text": [
      "['id' 'country_id' 'league_id' 'season' 'stage' 'date' 'match_api_id'\n",
      " 'home_team_api_id' 'away_team_api_id' 'home_team_goal' 'away_team_goal'\n",
      " 'home_player_X1' 'home_player_X2' 'home_player_X3' 'home_player_X4'\n",
      " 'home_player_X5' 'home_player_X6' 'home_player_X7' 'home_player_X8'\n",
      " 'home_player_X9' 'home_player_X10' 'home_player_X11' 'away_player_X1'\n",
      " 'away_player_X2' 'away_player_X3' 'away_player_X4' 'away_player_X5'\n",
      " 'away_player_X6' 'away_player_X7' 'away_player_X8' 'away_player_X9'\n",
      " 'away_player_X10' 'away_player_X11' 'home_player_Y1' 'home_player_Y2'\n",
      " 'home_player_Y3' 'home_player_Y4' 'home_player_Y5' 'home_player_Y6'\n",
      " 'home_player_Y7' 'home_player_Y8' 'home_player_Y9' 'home_player_Y10'\n",
      " 'home_player_Y11' 'away_player_Y1' 'away_player_Y2' 'away_player_Y3'\n",
      " 'away_player_Y4' 'away_player_Y5' 'away_player_Y6' 'away_player_Y7'\n",
      " 'away_player_Y8' 'away_player_Y9' 'away_player_Y10' 'away_player_Y11'\n",
      " 'home_player_1' 'home_player_2' 'home_player_3' 'home_player_4'\n",
      " 'home_player_5' 'home_player_6' 'home_player_7' 'home_player_8'\n",
      " 'home_player_9' 'home_player_10' 'home_player_11' 'away_player_1'\n",
      " 'away_player_2' 'away_player_3' 'away_player_4' 'away_player_5'\n",
      " 'away_player_6' 'away_player_7' 'away_player_8' 'away_player_9'\n",
      " 'away_player_10' 'away_player_11' 'goal' 'shoton' 'shotoff' 'foulcommit'\n",
      " 'card' 'cross' 'corner' 'possession' 'B365H' 'B365D' 'B365A' 'BWH' 'BWD'\n",
      " 'BWA' 'IWH' 'IWD' 'IWA' 'LBH' 'LBD' 'LBA' 'PSH' 'PSD' 'PSA' 'WHH' 'WHD'\n",
      " 'WHA' 'SJH' 'SJD' 'SJA' 'VCH' 'VCD' 'VCA' 'GBH' 'GBD' 'GBA' 'BSH' 'BSD'\n",
      " 'BSA']\n"
     ]
    }
   ],
   "source": [
    "print(match_data.columns.values)\n"
   ]
  },
  {
   "cell_type": "code",
   "execution_count": null,
   "metadata": {
    "collapsed": true
   },
   "outputs": [],
   "source": []
  }
 ],
 "metadata": {
  "anaconda-cloud": {},
  "kernelspec": {
   "display_name": "Python [conda root]",
   "language": "python",
   "name": "conda-root-py"
  },
  "language_info": {
   "codemirror_mode": {
    "name": "ipython",
    "version": 3
   },
   "file_extension": ".py",
   "mimetype": "text/x-python",
   "name": "python",
   "nbconvert_exporter": "python",
   "pygments_lexer": "ipython3",
   "version": "3.5.2"
  }
 },
 "nbformat": 4,
 "nbformat_minor": 1
}
