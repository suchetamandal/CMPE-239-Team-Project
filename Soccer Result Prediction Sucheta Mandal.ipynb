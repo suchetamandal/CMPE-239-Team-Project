{
 "cells": [
  {
   "cell_type": "code",
   "execution_count": 1,
   "metadata": {
    "collapsed": true
   },
   "outputs": [],
   "source": [
    "import sqlite3\n",
    "import pandas as pd\n",
    "from time import time\n",
    "import warnings\n",
    "warnings.simplefilter(\"ignore\")"
   ]
  },
  {
   "cell_type": "code",
   "execution_count": 2,
   "metadata": {
    "collapsed": false
   },
   "outputs": [],
   "source": [
    "database = 'database.sqlite'\n",
    "conn = sqlite3.connect(database)"
   ]
  },
  {
   "cell_type": "code",
   "execution_count": 27,
   "metadata": {
    "collapsed": false
   },
   "outputs": [],
   "source": [
    "player_data = pd.read_sql(\"SELECT * FROM Player;\", conn)\n",
    "player_stats_data = pd.read_sql(\"SELECT * FROM Player_Attributes;\", conn)\n",
    "team_data = pd.read_sql(\"SELECT * FROM Team;\", conn)\n",
    "match_data = pd.read_sql(\"SELECT * FROM Match;\", conn)\n",
    "league_data = pd.read_sql(\"SELECT * from League;\",conn)\n",
    "country_data = pd.read_sql(\"SELECT * from Country;\",conn)\n",
    "team_more_data = pd.read_sql(\"SELECT * from Team_Attributes;\",conn)"
   ]
  },
  {
   "cell_type": "code",
   "execution_count": 28,
   "metadata": {
    "collapsed": false
   },
   "outputs": [
    {
     "name": "stdout",
     "output_type": "stream",
     "text": [
      "['id' 'country_id' 'league_id' 'season' 'stage' 'date' 'match_api_id'\n",
      " 'home_team_api_id' 'away_team_api_id' 'home_team_goal' 'away_team_goal'\n",
      " 'home_player_X1' 'home_player_X2' 'home_player_X3' 'home_player_X4'\n",
      " 'home_player_X5' 'home_player_X6' 'home_player_X7' 'home_player_X8'\n",
      " 'home_player_X9' 'home_player_X10' 'home_player_X11' 'away_player_X1'\n",
      " 'away_player_X2' 'away_player_X3' 'away_player_X4' 'away_player_X5'\n",
      " 'away_player_X6' 'away_player_X7' 'away_player_X8' 'away_player_X9'\n",
      " 'away_player_X10' 'away_player_X11' 'home_player_Y1' 'home_player_Y2'\n",
      " 'home_player_Y3' 'home_player_Y4' 'home_player_Y5' 'home_player_Y6'\n",
      " 'home_player_Y7' 'home_player_Y8' 'home_player_Y9' 'home_player_Y10'\n",
      " 'home_player_Y11' 'away_player_Y1' 'away_player_Y2' 'away_player_Y3'\n",
      " 'away_player_Y4' 'away_player_Y5' 'away_player_Y6' 'away_player_Y7'\n",
      " 'away_player_Y8' 'away_player_Y9' 'away_player_Y10' 'away_player_Y11'\n",
      " 'home_player_1' 'home_player_2' 'home_player_3' 'home_player_4'\n",
      " 'home_player_5' 'home_player_6' 'home_player_7' 'home_player_8'\n",
      " 'home_player_9' 'home_player_10' 'home_player_11' 'away_player_1'\n",
      " 'away_player_2' 'away_player_3' 'away_player_4' 'away_player_5'\n",
      " 'away_player_6' 'away_player_7' 'away_player_8' 'away_player_9'\n",
      " 'away_player_10' 'away_player_11' 'goal' 'shoton' 'shotoff' 'foulcommit'\n",
      " 'card' 'cross' 'corner' 'possession' 'B365H' 'B365D' 'B365A' 'BWH' 'BWD'\n",
      " 'BWA' 'IWH' 'IWD' 'IWA' 'LBH' 'LBD' 'LBA' 'PSH' 'PSD' 'PSA' 'WHH' 'WHD'\n",
      " 'WHA' 'SJH' 'SJD' 'SJA' 'VCH' 'VCD' 'VCA' 'GBH' 'GBD' 'GBA' 'BSH' 'BSD'\n",
      " 'BSA']\n"
     ]
    }
   ],
   "source": [
    "## Loading all functions\n",
    "print(match_data.columns.values)\n",
    "match_data.drop('BWA', axis=1, inplace=True)\n",
    "match_data.drop('IWH', axis=1, inplace=True)\n",
    "match_data.drop('IWD', axis=1, inplace=True)\n",
    "match_data.drop('IWA', axis=1, inplace=True)\n",
    "match_data.drop('LBH', axis=1, inplace=True)\n",
    "match_data.drop('LBD', axis=1, inplace=True)\n",
    "match_data.drop('LBA', axis=1, inplace=True)\n",
    "match_data.drop('PSH', axis=1, inplace=True)\n",
    "match_data.drop('PSD', axis=1, inplace=True)\n",
    "match_data.drop('PSA', axis=1, inplace=True)\n",
    "match_data.drop('WHH', axis=1, inplace=True)\n",
    "match_data.drop('WHD', axis=1, inplace=True)\n",
    "match_data.drop('WHA', axis=1, inplace=True)\n",
    "match_data.drop('SJH', axis=1, inplace=True)\n",
    "match_data.drop('VCA', axis=1, inplace=True)\n",
    "match_data.drop('VCH', axis=1, inplace=True)\n",
    "match_data.drop('VCD', axis=1, inplace=True)\n",
    "match_data.drop('GBH', axis=1, inplace=True)\n",
    "match_data.drop('GBD', axis=1, inplace=True)\n",
    "match_data.drop('GBA', axis=1, inplace=True)\n",
    "match_data.drop('BSH', axis=1, inplace=True)\n",
    "match_data.drop('BSD', axis=1, inplace=True)\n",
    "match_data.drop('BSA', axis=1, inplace=True)\n",
    "match_data.drop('date', axis=1, inplace=True)\n",
    "match_data.drop('B365D', axis=1, inplace=True)\n",
    "match_data.drop('B365A', axis=1, inplace=True)\n",
    "match_data.drop('BWD', axis=1, inplace=True)\n",
    "match_data.drop('BWH', axis=1, inplace=True)\n",
    "match_data.drop('possession', axis=1, inplace=True)\n",
    "match_data.drop('corner', axis=1, inplace=True)\n",
    "match_data.drop('goal', axis=1, inplace=True)\n",
    "match_data.drop('shoton', axis=1, inplace=True)\n",
    "match_data.drop('shotoff', axis=1, inplace=True)\n",
    "match_data.drop('foulcommit', axis=1, inplace=True)\n",
    "match_data.drop('card', axis=1, inplace=True)\n",
    "match_data.drop('cross', axis=1, inplace=True)\n",
    "match_data.drop('B365H', axis=1, inplace=True)\n",
    "match_data.drop('season', axis=1, inplace=True)"
   ]
  },
  {
   "cell_type": "code",
   "execution_count": 29,
   "metadata": {
    "collapsed": false
   },
   "outputs": [],
   "source": [
    "## Lebel Creation ('Result') by comparing 'home_team_goal' and 'away_team_goal', is Win (+1) if home_team_goal > away_team_goal\n",
    "## Lost('-1') if away_team_goal > home_team_goal and Draw ('0') if away_team_goal = home_team_goal\n",
    "def get_result_home_advantage(match_data):\n",
    "    results = []\n",
    "    for match in range(len(match_data.index)):\n",
    "        home_goals = match_data['home_team_goal'].iloc[match]\n",
    "        away_goals = match_data['away_team_goal'].iloc[match] \n",
    "        \n",
    "        if home_goals > away_goals:\n",
    "            results.append('+1')\n",
    "        elif away_goals > home_goals:\n",
    "            results.append('-1')\n",
    "        else:\n",
    "            results.append('0')\n",
    "    match_data['result'] = results \n",
    "    return match_data        "
   ]
  },
  {
   "cell_type": "code",
   "execution_count": 30,
   "metadata": {
    "collapsed": false
   },
   "outputs": [
    {
     "name": "stdout",
     "output_type": "stream",
     "text": [
      "Result column added in 0.9 seconds\n"
     ]
    }
   ],
   "source": [
    "start = time()\n",
    "match_rev = get_result_home_advantage(match_data) \n",
    "end = time()\n",
    "print(\"Result column added in {:.1f} seconds\".format((end - start)))"
   ]
  },
  {
   "cell_type": "code",
   "execution_count": 31,
   "metadata": {
    "collapsed": false
   },
   "outputs": [],
   "source": [
    "##Away Match and Home Match Winner Bucket Creation\n",
    "away_match_winner =  match_rev.loc[match_rev['result'].isin(['-1'])]\n",
    "home_match_winner =  match_rev.loc[match_rev['result'].isin(['+1'])]\n",
    "draw_match = match_rev.loc[match_rev['result'].isin(['0'])]"
   ]
  },
  {
   "cell_type": "code",
   "execution_count": 32,
   "metadata": {
    "collapsed": false
   },
   "outputs": [
    {
     "name": "stdout",
     "output_type": "stream",
     "text": [
      "16.86542128377384\n",
      "15.867338560281205\n",
      "21.452921534767484\n",
      "16.099131534916637\n",
      "17.19810788205302\n"
     ]
    }
   ],
   "source": [
    "## Normalize Players data set\n",
    "\n",
    "import matplotlib.pyplot as plt\n",
    "import numpy as np\n",
    "x = player_stats_data['gk_diving']\n",
    "y = player_stats_data['gk_handling']\n",
    "z = player_stats_data['gk_kicking'] \n",
    "a = player_stats_data['gk_positioning'] \n",
    "b = player_stats_data['gk_reflexes'] \n",
    "\n",
    "#t = (x+y+z+a+b)/5\n",
    "print(np.std(x))\n",
    "print(np.std(y))\n",
    "print(np.std(z))\n",
    "print(np.std(a))\n",
    "print(np.std(b))\n",
    "    "
   ]
  },
  {
   "cell_type": "code",
   "execution_count": 33,
   "metadata": {
    "collapsed": false
   },
   "outputs": [],
   "source": [
    "## create one featured for telling whether a player is attacking or not.\n",
    "#Feature Reduction and also binoritization\n",
    "#x = player_stats_data['attacking_work_rate']\n",
    "#y = player_stats_data['defensive_work_rate']\n",
    "\n",
    "#Medium means 0 None means None, High means 1 (attacker) , (defensive)\n",
    "def get_player_type(player_data):\n",
    "    attacks = []\n",
    "    i = 0\n",
    "    defenses = []\n",
    "    j = 0\n",
    "    midfield = []\n",
    "    k = 0\n",
    "    for player in range(len(player_data.index)):\n",
    "        attacking = player_data['attacking_work_rate'].iloc[player]\n",
    "        defensing = player_data['defensive_work_rate'].iloc[player]\n",
    "        \n",
    "        if attacking == 'high':\n",
    "            attacks.append('1')\n",
    "            i = i+ 1\n",
    "        else:\n",
    "            attacks.append('0')\n",
    "            \n",
    "        if defensing == 'high':\n",
    "            defenses.append('1')\n",
    "            j = j+1\n",
    "        else:\n",
    "            defenses.append('0')\n",
    "        \n",
    "        if attacking == 'medium' or defensing == 'medium':\n",
    "            midfield.append('1')\n",
    "            k = k+1\n",
    "        else:\n",
    "            midfield.append('0')\n",
    "            \n",
    "            \n",
    "    player_data['attacker'] = attacks\n",
    "    player_data['defender'] = defenses\n",
    "    player_data['midfielder'] = midfield\n",
    "    \n",
    "    print(\"Attackers are \"+str(i))\n",
    "    print(\"Defenders are \"+str(j))\n",
    "    print(\"MidFielders are \"+str(k))\n",
    "    \n",
    "    return player_data \n",
    "\n",
    "def get_free_kick_player(player_data):\n",
    "    freekicks = []\n",
    "    i = 0;\n",
    "    j = 0;\n",
    "    for player in range(len(player_data.index)):\n",
    "        kick_accuracy = player_data['free_kick_accuracy'].iloc[player]\n",
    "        vision = player_data['vision'].iloc[player]\n",
    "        kick_vision = ((kick_accuracy*0.80)+(vision*0.20))/200\n",
    "        if kick_vision > 0.35:\n",
    "            freekicks.append('1')\n",
    "            i = i+1\n",
    "        else:\n",
    "            freekicks.append('0')\n",
    "            j = j + 1\n",
    "    player_data['free_kick_taker'] = freekicks \n",
    "    print(\"Free Kick Taker is \"+str(i))\n",
    "    print(\"Non Free Kick Taker is \"+str(j))\n",
    "    return player_data     "
   ]
  },
  {
   "cell_type": "code",
   "execution_count": 34,
   "metadata": {
    "collapsed": false
   },
   "outputs": [
    {
     "name": "stdout",
     "output_type": "stream",
     "text": [
      "Free Kick Taker is 23299\n",
      "Non Free Kick Taker is 160679\n",
      "Attackers are 42823\n",
      "Defenders are 27041\n",
      "MidFielders are 158762\n"
     ]
    }
   ],
   "source": [
    "py1= get_free_kick_player(player_stats_data)\n",
    "py2 = get_player_type(py1)"
   ]
  },
  {
   "cell_type": "code",
   "execution_count": 35,
   "metadata": {
    "collapsed": false
   },
   "outputs": [
    {
     "name": "stdout",
     "output_type": "stream",
     "text": [
      "['id' 'country_id' 'league_id' 'stage' 'match_api_id' 'home_team_api_id'\n",
      " 'away_team_api_id' 'home_team_goal' 'away_team_goal' 'home_player_X1'\n",
      " 'home_player_X2' 'home_player_X3' 'home_player_X4' 'home_player_X5'\n",
      " 'home_player_X6' 'home_player_X7' 'home_player_X8' 'home_player_X9'\n",
      " 'home_player_X10' 'home_player_X11' 'away_player_X1' 'away_player_X2'\n",
      " 'away_player_X3' 'away_player_X4' 'away_player_X5' 'away_player_X6'\n",
      " 'away_player_X7' 'away_player_X8' 'away_player_X9' 'away_player_X10'\n",
      " 'away_player_X11' 'home_player_Y1' 'home_player_Y2' 'home_player_Y3'\n",
      " 'home_player_Y4' 'home_player_Y5' 'home_player_Y6' 'home_player_Y7'\n",
      " 'home_player_Y8' 'home_player_Y9' 'home_player_Y10' 'home_player_Y11'\n",
      " 'away_player_Y1' 'away_player_Y2' 'away_player_Y3' 'away_player_Y4'\n",
      " 'away_player_Y5' 'away_player_Y6' 'away_player_Y7' 'away_player_Y8'\n",
      " 'away_player_Y9' 'away_player_Y10' 'away_player_Y11' 'home_player_1'\n",
      " 'home_player_2' 'home_player_3' 'home_player_4' 'home_player_5'\n",
      " 'home_player_6' 'home_player_7' 'home_player_8' 'home_player_9'\n",
      " 'home_player_10' 'home_player_11' 'away_player_1' 'away_player_2'\n",
      " 'away_player_3' 'away_player_4' 'away_player_5' 'away_player_6'\n",
      " 'away_player_7' 'away_player_8' 'away_player_9' 'away_player_10'\n",
      " 'away_player_11' 'SJD' 'SJA' 'result']\n"
     ]
    }
   ],
   "source": [
    "print(match_rev.columns.values)"
   ]
  },
  {
   "cell_type": "code",
   "execution_count": null,
   "metadata": {
    "collapsed": false
   },
   "outputs": [],
   "source": []
  },
  {
   "cell_type": "code",
   "execution_count": 61,
   "metadata": {
    "collapsed": false
   },
   "outputs": [
    {
     "name": "stdout",
     "output_type": "stream",
     "text": [
      "(11696, 77)\n",
      "(11696,)\n",
      "0.473162393162\n",
      "In Gaussian NB\n",
      "0.453675213675\n",
      "In KNN plus Trunkcated\n",
      "0.473162393162\n"
     ]
    }
   ],
   "source": [
    "#Simple KNN on match data\n",
    "import numpy as np\n",
    "from sklearn import preprocessing, cross_validation, neighbors\n",
    "from sklearn.cross_validation import train_test_split\n",
    "import pandas as pd \n",
    "\n",
    "match_rev.dropna(inplace = True)\n",
    "labels = match_rev.loc[:,'result']\n",
    "features = match_rev.drop('result', axis = 1)\n",
    "\n",
    "clf = neighbors.KNeighborsClassifier(n_neighbors=6000)\n",
    "X_train, X_test, y_train, y_test = train_test_split(features, labels, test_size = 0.2)\n",
    "\n",
    "print(X_train.shape)\n",
    "print(y_train.shape)\n",
    "\n",
    "clf.fit(X_train,y_train)\n",
    "accuracy = clf.score(X_test,y_test)\n",
    "\n",
    "print (accuracy)\n",
    "\n",
    "from sklearn.naive_bayes import GaussianNB\n",
    "\n",
    "clfnb = GaussianNB()\n",
    "clfnb.fit(X_train, y_train)\n",
    "accuracyNB = clfnb.score(X_test,y_test)\n",
    "\n",
    "print(\"In Gaussian NB\")\n",
    "print (accuracyNB)\n",
    "\n",
    "\n",
    "##WITH PCA + KNN\n",
    "from sklearn.decomposition import PCA, FastICA,TruncatedSVD\n",
    "from sklearn.pipeline import Pipeline\n",
    "pca = TruncatedSVD()\n",
    "dm_reductions = [pca]  \n",
    "clf_details = [clf]\n",
    "estimators = [('dm_reduce', pca), ('clf', clf)]\n",
    "pipeline = Pipeline(estimators)        h\n",
    "best_pipe = pipeline.fit(X_train, y_train)\n",
    "bestAccuracy = pipeline.score(X_test,y_test)\n",
    "print(\"In KNN plus Trunkcated\")\n",
    "print(bestAccuracy)"
   ]
  },
  {
   "cell_type": "code",
   "execution_count": 54,
   "metadata": {
    "collapsed": false
   },
   "outputs": [
    {
     "ename": "SyntaxError",
     "evalue": "invalid syntax (<ipython-input-54-068c9c494f66>, line 1)",
     "output_type": "error",
     "traceback": [
      "\u001b[0;36m  File \u001b[0;32m\"<ipython-input-54-068c9c494f66>\"\u001b[0;36m, line \u001b[0;32m1\u001b[0m\n\u001b[0;31m    0.395897435897 20% data\u001b[0m\n\u001b[0m                    ^\u001b[0m\n\u001b[0;31mSyntaxError\u001b[0m\u001b[0;31m:\u001b[0m invalid syntax\n"
     ]
    }
   ],
   "source": [
    "0.395897435897 20% data\n",
    "0.395897435897 30% data\n",
    "0.460697197539 10% data k = 1000\n",
    "0.455042735043 20% data k = 1000\n",
    "0.464957264957 20% data k = 3000\n",
    "0.468717948718 20% data k = 5000\n",
    "0.46188034188 20% data k = 10000\n",
    "0.478290598291 20% data k = 6000"
   ]
  },
  {
   "cell_type": "code",
   "execution_count": null,
   "metadata": {
    "collapsed": true
   },
   "outputs": [],
   "source": []
  }
 ],
 "metadata": {
  "anaconda-cloud": {},
  "kernelspec": {
   "display_name": "Python [conda root]",
   "language": "python",
   "name": "conda-root-py"
  },
  "language_info": {
   "codemirror_mode": {
    "name": "ipython",
    "version": 3
   },
   "file_extension": ".py",
   "mimetype": "text/x-python",
   "name": "python",
   "nbconvert_exporter": "python",
   "pygments_lexer": "ipython3",
   "version": "3.5.2"
  }
 },
 "nbformat": 4,
 "nbformat_minor": 1
}
