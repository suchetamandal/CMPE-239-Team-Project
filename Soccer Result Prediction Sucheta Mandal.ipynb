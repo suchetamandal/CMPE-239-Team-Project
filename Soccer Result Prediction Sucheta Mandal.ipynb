{
 "cells": [
  {
   "cell_type": "code",
   "execution_count": null,
   "metadata": {
    "collapsed": true
   },
   "outputs": [],
   "source": [
    "import sqlite3\n",
    "import pandas as pd\n",
    "import numpy as np\n",
    "from time import time\n",
    "import warnings\n",
    "warnings.simplefilter(\"ignore\")"
   ]
  },
  {
   "cell_type": "code",
   "execution_count": null,
   "metadata": {
    "collapsed": false
   },
   "outputs": [],
   "source": [
    "database = 'database.sqlite'\n",
    "conn = sqlite3.connect(database)"
   ]
  },
  {
   "cell_type": "code",
   "execution_count": null,
   "metadata": {
    "collapsed": false
   },
   "outputs": [],
   "source": [
    "player_data = pd.read_sql(\"SELECT * FROM Player;\", conn)\n",
    "player_stats_data = pd.read_sql(\"SELECT * FROM Player_Attributes;\", conn)\n",
    "team_data = pd.read_sql(\"SELECT * FROM Team;\", conn)\n",
    "match_data = pd.read_sql(\"SELECT * FROM Match;\", conn)\n",
    "league_data = pd.read_sql(\"SELECT * from League;\",conn)\n",
    "country_data = pd.read_sql(\"SELECT * from Country;\",conn)\n",
    "team_more_data = pd.read_sql(\"SELECT * from Team_Attributes;\",conn)"
   ]
  },
  {
   "cell_type": "code",
   "execution_count": null,
   "metadata": {
    "collapsed": false
   },
   "outputs": [],
   "source": [
    "## Loading all functions\n",
    "match_data.drop('BWA', axis=1, inplace=True)\n",
    "match_data.drop('IWH', axis=1, inplace=True)\n",
    "match_data.drop('IWD', axis=1, inplace=True)\n",
    "match_data.drop('IWA', axis=1, inplace=True)\n",
    "match_data.drop('LBH', axis=1, inplace=True)\n",
    "match_data.drop('LBD', axis=1, inplace=True)\n",
    "match_data.drop('LBA', axis=1, inplace=True)\n",
    "match_data.drop('PSH', axis=1, inplace=True)\n",
    "match_data.drop('PSD', axis=1, inplace=True)\n",
    "match_data.drop('PSA', axis=1, inplace=True)\n",
    "match_data.drop('WHH', axis=1, inplace=True)\n",
    "match_data.drop('WHD', axis=1, inplace=True)\n",
    "match_data.drop('WHA', axis=1, inplace=True)\n",
    "match_data.drop('SJH', axis=1, inplace=True)\n",
    "match_data.drop('VCA', axis=1, inplace=True)\n",
    "match_data.drop('VCH', axis=1, inplace=True)\n",
    "match_data.drop('VCD', axis=1, inplace=True)\n",
    "match_data.drop('GBH', axis=1, inplace=True)\n",
    "match_data.drop('GBD', axis=1, inplace=True)\n",
    "match_data.drop('GBA', axis=1, inplace=True)\n",
    "match_data.drop('BSH', axis=1, inplace=True)\n",
    "match_data.drop('BSD', axis=1, inplace=True)\n",
    "match_data.drop('BSA', axis=1, inplace=True)\n",
    "match_data.drop('date', axis=1, inplace=True)\n",
    "match_data.drop('B365D', axis=1, inplace=True)\n",
    "match_data.drop('B365A', axis=1, inplace=True)\n",
    "match_data.drop('BWD', axis=1, inplace=True)\n",
    "match_data.drop('BWH', axis=1, inplace=True)\n",
    "match_data.drop('possession', axis=1, inplace=True)\n",
    "match_data.drop('corner', axis=1, inplace=True)\n",
    "match_data.drop('goal', axis=1, inplace=True)\n",
    "match_data.drop('shoton', axis=1, inplace=True)\n",
    "match_data.drop('shotoff', axis=1, inplace=True)\n",
    "match_data.drop('foulcommit', axis=1, inplace=True)\n",
    "match_data.drop('card', axis=1, inplace=True)\n",
    "match_data.drop('cross', axis=1, inplace=True)\n",
    "match_data.drop('B365H', axis=1, inplace=True)\n",
    "match_data.drop('season', axis=1, inplace=True)"
   ]
  },
  {
   "cell_type": "code",
   "execution_count": null,
   "metadata": {
    "collapsed": false
   },
   "outputs": [],
   "source": [
    "## Lebel Creation ('Result') by comparing 'home_team_goal' and 'away_team_goal', is Win (+1) if home_team_goal > away_team_goal\n",
    "## Lost('-1') if away_team_goal > home_team_goal and Draw ('0') if away_team_goal = home_team_goal\n",
    "def get_result_home_advantage(match_data):\n",
    "    results = []\n",
    "    for match in range(len(match_data.index)):\n",
    "        home_goals = match_data['home_team_goal'].iloc[match]\n",
    "        away_goals = match_data['away_team_goal'].iloc[match] \n",
    "        \n",
    "        if home_goals > away_goals:\n",
    "            results.append('+1')\n",
    "        elif away_goals > home_goals:\n",
    "            results.append('-1')\n",
    "        else:\n",
    "            results.append('0')\n",
    "    match_data['result'] = results \n",
    "    return match_data        "
   ]
  },
  {
   "cell_type": "code",
   "execution_count": null,
   "metadata": {
    "collapsed": false
   },
   "outputs": [],
   "source": [
    "start = time()\n",
    "match_rev = get_result_home_advantage(match_data) \n",
    "end = time()\n",
    "print(\"Result column added in {:.1f} seconds\".format((end - start)))"
   ]
  },
  {
   "cell_type": "code",
   "execution_count": null,
   "metadata": {
    "collapsed": false
   },
   "outputs": [],
   "source": [
    "##Away Match and Home Match Winner Bucket Creation\n",
    "away_match_winner =  match_rev.loc[match_rev['result'].isin(['-1'])]\n",
    "home_match_winner =  match_rev.loc[match_rev['result'].isin(['+1'])]\n",
    "draw_match = match_rev.loc[match_rev['result'].isin(['0'])]"
   ]
  },
  {
   "cell_type": "code",
   "execution_count": null,
   "metadata": {
    "collapsed": false
   },
   "outputs": [],
   "source": [
    "## create one featured for telling whether a player is attacking or not.\n",
    "#Feature Reduction and also binoritization\n",
    "#x = player_stats_data['attacking_work_rate']\n",
    "#y = player_stats_data['defensive_work_rate']\n",
    "\n",
    "#Medium means 0 None means None, High means 1 (attacker) , (defensive)\n",
    "def get_player_type(player_data):\n",
    "    attacks = []\n",
    "    i = 0\n",
    "    defenses = []\n",
    "    j = 0\n",
    "    midfield = []\n",
    "    k = 0\n",
    "    for player in range(len(player_data.index)):\n",
    "        attacking = player_data['attacking_work_rate'].iloc[player]\n",
    "        defensing = player_data['defensive_work_rate'].iloc[player]\n",
    "        \n",
    "        if attacking == 'high':\n",
    "            attacks.append('1')\n",
    "            i = i+ 1\n",
    "        else:\n",
    "            attacks.append('0')\n",
    "            \n",
    "        if defensing == 'high':\n",
    "            defenses.append('1')\n",
    "            j = j+1\n",
    "        else:\n",
    "            defenses.append('0')\n",
    "        \n",
    "        if attacking == 'medium' or defensing == 'medium':\n",
    "            midfield.append('1')\n",
    "            k = k+1\n",
    "        else:\n",
    "            midfield.append('0')\n",
    "            \n",
    "            \n",
    "    player_data['attacker'] = attacks\n",
    "    player_data['defender'] = defenses\n",
    "    player_data['midfielder'] = midfield\n",
    "    \n",
    "    print(\"Attackers are \"+str(i))\n",
    "    print(\"Defenders are \"+str(j))\n",
    "    print(\"MidFielders are \"+str(k))\n",
    "    \n",
    "    return player_data \n",
    "\n",
    "def get_free_kick_player(player_data):\n",
    "    freekicks = []\n",
    "    i = 0;\n",
    "    j = 0;\n",
    "    for player in range(len(player_data.index)):\n",
    "        kick_accuracy = player_data['free_kick_accuracy'].iloc[player]\n",
    "        vision = player_data['vision'].iloc[player]\n",
    "        kick_vision = ((kick_accuracy*0.80)+(vision*0.20))/200\n",
    "        if kick_vision > 0.35:\n",
    "            freekicks.append('1')\n",
    "            i = i+1\n",
    "        else:\n",
    "            freekicks.append('0')\n",
    "            j = j + 1\n",
    "    player_data['free_kick_taker'] = freekicks \n",
    "    print(\"Free Kick Taker is \"+str(i))\n",
    "    print(\"Non Free Kick Taker is \"+str(j))\n",
    "    return player_data     "
   ]
  },
  {
   "cell_type": "code",
   "execution_count": null,
   "metadata": {
    "collapsed": false
   },
   "outputs": [],
   "source": [
    "py1= get_free_kick_player(player_stats_data)\n",
    "player_stats_updated = get_player_type(py1)"
   ]
  },
  {
   "cell_type": "code",
   "execution_count": null,
   "metadata": {
    "collapsed": false
   },
   "outputs": [],
   "source": [
    "player_stats_updated['gk_diving'].fillna(0)\n",
    "player_stats_updated['gk_handling'].fillna(0)\n",
    "player_stats_updated['gk_kicking'].fillna(0)\n",
    "player_stats_updated['gk_positioning'].fillna(0)\n",
    "player_stats_updated['gk_reflexes'].fillna(0)\n",
    "\n",
    "player_stats_updated.to_csv('goal.csv',encoding='utf-8')"
   ]
  },
  {
   "cell_type": "code",
   "execution_count": null,
   "metadata": {
    "collapsed": false
   },
   "outputs": [],
   "source": [
    "def getPlayerAllStat(player_id):\n",
    "    if np.isnan(player_id) == True:\n",
    "        return 0,0,0,0,0\n",
    "    else:\n",
    "        #home_home_games = result_df[(result_df.home_team_api_id == home_team)].tail(games)\n",
    "        player = player_stats_updated[(player_stats_updated.player_api_id == player_id)].tail(1)\n",
    "        #for index,player in player_stats_updated.iterrows():\n",
    "            #if(player['player_api_id'] == player_id): \n",
    "        if player['gk_diving'].isnull().any: \n",
    "            x=0\n",
    "        else:    \n",
    "            x = player['gk_diving']\n",
    "            \n",
    "        if player['gk_handling'].isnull().any: \n",
    "            y=0\n",
    "        else:    \n",
    "            y = player['gk_handling']\n",
    "            \n",
    "        if player['gk_kicking'].isnull().any: \n",
    "            z=0\n",
    "        else:    \n",
    "            z = player['gk_kicking']\n",
    "         \n",
    "        if player['gk_positioning'].isnull().any: \n",
    "            a=0\n",
    "        else:    \n",
    "            a = player['gk_positioning']\n",
    "            \n",
    "        if player['gk_reflexes'].isnull().any: \n",
    "            b=0\n",
    "        else:    \n",
    "            b = player['gk_reflexes']\n",
    "            \n",
    "        goali = x+y+z+a+b\n",
    "        \n",
    "        if player['free_kick_taker'].isnull().any: \n",
    "            freekick=0\n",
    "        else:    \n",
    "            freekick = player['free_kick_taker']\n",
    "            \n",
    "        if player['attacker'].isnull().any: \n",
    "            attack=0\n",
    "        else:    \n",
    "            attack = player['attacker']\n",
    "            \n",
    "        if player['defender'].isnull().any: \n",
    "            defend=0\n",
    "        else:    \n",
    "            defend = player['defender']\n",
    "            \n",
    "        if player['midfielder'].isnull().any: \n",
    "            midfielder=0\n",
    "        else:    \n",
    "            midfielder = player['midfielder']    \n",
    "        return goali,freekick,attack,defend,midfielder"
   ]
  },
  {
   "cell_type": "code",
   "execution_count": null,
   "metadata": {
    "collapsed": false
   },
   "outputs": [],
   "source": [
    "def getPlayerStatsForAllTeams(match_data):\n",
    "    goalkeeper_home_score = []\n",
    "    goalkeeper_away_score = []\n",
    "    \n",
    "    attacking_home_score = []\n",
    "    attacking_away_score = []\n",
    "    \n",
    "    defending_home_score = []\n",
    "    defending_away_score = []\n",
    "    \n",
    "    midfield_home_score = []\n",
    "    midfield_away_score = []\n",
    "    \n",
    "    freekick_home_score = []\n",
    "    freekick_away_score =[]\n",
    "    i=0\n",
    "    for match in range(len(match_data.index)):\n",
    "        away_player = set()\n",
    "        home_player = set()\n",
    "        \n",
    "        hp1 = match_data['home_player_1'].iloc[match]\n",
    "        ap1 = match_data['away_player_1'].iloc[match]\n",
    "\n",
    "        \n",
    "        hp2 = match_data['home_player_2'].iloc[match]\n",
    "        ap2 = match_data['away_player_2'].iloc[match]\n",
    "        \n",
    "        hp3 = match_data['home_player_3'].iloc[match]\n",
    "        ap3 = match_data['away_player_3'].iloc[match]\n",
    "        \n",
    "        hp4 = match_data['home_player_4'].iloc[match]\n",
    "        ap4 = match_data['away_player_4'].iloc[match]\n",
    "        \n",
    "        hp5 = match_data['home_player_5'].iloc[match]\n",
    "        ap5 = match_data['away_player_5'].iloc[match]\n",
    "        \n",
    "        #hp6 = match_data['home_player_6'].iloc[match]\n",
    "        #ap6 = match_data['away_player_6'].iloc[match]\n",
    "        \n",
    "        #hp7 = match_data['home_player_7'].iloc[match]\n",
    "        #ap7 = match_data['away_player_7'].iloc[match]\n",
    "        \n",
    "        #hp8 = match_data['home_player_8'].iloc[match]\n",
    "        #ap8 = match_data['away_player_8'].iloc[match]\n",
    "        \n",
    "        #hp9 = match_data['home_player_9'].iloc[match]\n",
    "        #ap9 = match_data['away_player_9'].iloc[match]\n",
    "        \n",
    "        #hp10 = match_data['home_player_10'].iloc[match]\n",
    "        #ap10 = match_data['away_player_10'].iloc[match]\n",
    "        \n",
    "        #hp11 = match_data['home_player_11'].iloc[match]\n",
    "        #ap11 = match_data['away_player_11'].iloc[match]\n",
    "    \n",
    "        \n",
    "        home_player.add(hp1)\n",
    "        home_player.add(hp2)\n",
    "        home_player.add(hp3)\n",
    "        home_player.add(hp4)\n",
    "        home_player.add(hp5)\n",
    "        #home_player.add(hp6)\n",
    "        #home_player.add(hp7)\n",
    "        #home_player.add(hp8)\n",
    "        #home_player.add(hp9)\n",
    "        #home_player.add(hp10)\n",
    "        #home_player.add(hp11)\n",
    "\n",
    "        \n",
    "        away_player.add(ap1)\n",
    "        away_player.add(ap2)\n",
    "        away_player.add(ap3)\n",
    "        away_player.add(ap4)\n",
    "        away_player.add(ap5)\n",
    "        #away_player.add(ap6)\n",
    "        #away_player.add(ap7)\n",
    "        #away_player.add(ap8)\n",
    "        #away_player.add(ap9)\n",
    "        #away_player.add(ap10)\n",
    "        #away_player.add(ap11)\n",
    "        \n",
    "        g1=0\n",
    "        g2=0\n",
    "        f1=0\n",
    "        f2=0\n",
    "        a1=0\n",
    "        a2=0\n",
    "        d1=0\n",
    "        d2=0\n",
    "        m1=0\n",
    "        m2=0\n",
    "        for hp in home_player:\n",
    "            goali,freekick,attack,defend,midfielder = getPlayerAllStat(hp)\n",
    "            g1 = max(g1,int(goali))\n",
    "            f1 = f1 + int(freekick)\n",
    "            a1 = a1 + int(attack)\n",
    "            d1 = d1 + int(defend)\n",
    "            m1 = m1 + int(midfielder)\n",
    "        for ap in away_player:\n",
    "            goali,freekick,attack,defend,midfielder = getPlayerAllStat(hp)\n",
    "            g2 = max(g2,int(goali))\n",
    "            f2 = f1 + int(freekick)\n",
    "            a2 = a1 + int(attack)\n",
    "            d2 = d1 + int(defend)\n",
    "            m2 = m1 + int(midfielder)\n",
    "\n",
    "        goalkeeper_home_score.append(g1)\n",
    "        goalkeeper_away_score.append(g2)\n",
    "        attacking_home_score.append(a1)\n",
    "        attacking_away_score.append(a2)\n",
    "        defending_home_score.append(d1)\n",
    "        defending_away_score.append(d2)\n",
    "        midfield_home_score.append(m1)\n",
    "        midfield_away_score.append(m2)\n",
    "        \n",
    "        i=i+1\n",
    "        print('Match Evaluated'+str(i))\n",
    "        \n",
    "    match_data['home_goali'] = goalkeeper_home_score\n",
    "    match_data['away_goali'] = goalkeeper_away_score\n",
    "    match_data['home_attacker'] = attacking_home_score\n",
    "    match_data['away_attacker'] = attacking_away_score\n",
    "    match_data['home_defender'] = defending_home_score\n",
    "    match_data['away_defender'] = defending_away_score\n",
    "    match_data['home_midfielder'] = midfield_home_score\n",
    "    match_data['away_midfielder'] = midfield_away_score\n",
    "    return match_data"
   ]
  },
  {
   "cell_type": "code",
   "execution_count": null,
   "metadata": {
    "collapsed": false
   },
   "outputs": [],
   "source": [
    "start = time()\n",
    "length = (len(match_data.index))\n",
    "match_data_updated = getPlayerStatsForAllTeams(match_rev)\n",
    "end = time()\n",
    "print(\"Result column added in {:.1f} seconds\".format((end - start)))"
   ]
  },
  {
   "cell_type": "code",
   "execution_count": 144,
   "metadata": {
    "collapsed": false
   },
   "outputs": [
    {
     "name": "stdout",
     "output_type": "stream",
     "text": [
      "Accuracy0.458803418803\n"
     ]
    }
   ],
   "source": [
    "#Simple KNN on match data\n",
    "import numpy as np\n",
    "from sklearn import preprocessing, cross_validation, neighbors\n",
    "from sklearn.cross_validation import train_test_split\n",
    "import pandas as pd \n",
    "\n",
    "kdata=[]\n",
    "accuracylist=[]\n",
    "\n",
    "match_data_updated.dropna(inplace = True)\n",
    "labels = match_data_updated.loc[:,'result']\n",
    "features = match_data_updated.drop('result', axis = 1)\n",
    "\n",
    "clf1 = neighbors.KNeighborsClassifier(n_neighbors=200)\n",
    "\n",
    "X_train, X_test, y_train, y_test = train_test_split(features, labels, test_size = 0.2)\n",
    "\n",
    "clf1.fit(X_train,y_train)\n",
    "accuracy = clf1.score(X_test,y_test)\n",
    "\n",
    "print(\"Accuracy\"+str(accuracy))\n",
    "kdata.append(200)\n",
    "accuracylist.append(accuracy)"
   ]
  },
  {
   "cell_type": "code",
   "execution_count": 145,
   "metadata": {
    "collapsed": false
   },
   "outputs": [
    {
     "name": "stdout",
     "output_type": "stream",
     "text": [
      "Accuracy0.463247863248\n"
     ]
    }
   ],
   "source": [
    "clf2 = neighbors.KNeighborsClassifier(n_neighbors=400)\n",
    "X_train, X_test, y_train, y_test = train_test_split(features, labels, test_size = 0.2)\n",
    "clf2.fit(X_train,y_train)\n",
    "accuracy = clf1.score(X_test,y_test)\n",
    "print(\"Accuracy\"+str(accuracy))\n",
    "kdata.append(1000)\n",
    "accuracylist.append(accuracy)"
   ]
  },
  {
   "cell_type": "code",
   "execution_count": 146,
   "metadata": {
    "collapsed": false
   },
   "outputs": [
    {
     "name": "stdout",
     "output_type": "stream",
     "text": [
      "Accuracy0.459145299145\n"
     ]
    }
   ],
   "source": [
    "clf1 = neighbors.KNeighborsClassifier(n_neighbors=500)\n",
    "X_train, X_test, y_train, y_test = train_test_split(features, labels, test_size = 0.2)\n",
    "clf1.fit(X_train,y_train)\n",
    "accuracy = clf1.score(X_test,y_test)\n",
    "print(\"Accuracy\"+str(accuracy))\n",
    "kdata.append(500)\n",
    "accuracylist.append(accuracy)"
   ]
  },
  {
   "cell_type": "code",
   "execution_count": 147,
   "metadata": {
    "collapsed": false
   },
   "outputs": [
    {
     "name": "stdout",
     "output_type": "stream",
     "text": [
      "Accuracy0.465641025641\n"
     ]
    }
   ],
   "source": [
    "clf1 = neighbors.KNeighborsClassifier(n_neighbors=1000)\n",
    "X_train, X_test, y_train, y_test = train_test_split(features, labels, test_size = 0.2)\n",
    "clf1.fit(X_train,y_train)\n",
    "accuracy = clf1.score(X_test,y_test)\n",
    "print(\"Accuracy\"+str(accuracy))\n",
    "kdata.append(1000)\n",
    "accuracylist.append(accuracy)"
   ]
  },
  {
   "cell_type": "code",
   "execution_count": 148,
   "metadata": {
    "collapsed": false
   },
   "outputs": [
    {
     "name": "stdout",
     "output_type": "stream",
     "text": [
      "Accuracy0.44\n"
     ]
    }
   ],
   "source": [
    "clf1 = neighbors.KNeighborsClassifier(n_neighbors=1500)\n",
    "X_train, X_test, y_train, y_test = train_test_split(features, labels, test_size = 0.2)\n",
    "clf1.fit(X_train,y_train)\n",
    "accuracy = clf1.score(X_test,y_test)\n",
    "print(\"Accuracy\"+str(accuracy))\n",
    "kdata.append(1500)\n",
    "accuracylist.append(accuracy)"
   ]
  },
  {
   "cell_type": "code",
   "execution_count": 149,
   "metadata": {
    "collapsed": false
   },
   "outputs": [
    {
     "name": "stdout",
     "output_type": "stream",
     "text": [
      "Accuracy0.463931623932\n"
     ]
    }
   ],
   "source": [
    "clf2 = neighbors.KNeighborsClassifier(n_neighbors=2000)\n",
    "X_train, X_test, y_train, y_test = train_test_split(features, labels, test_size = 0.2)\n",
    "clf2.fit(X_train,y_train)\n",
    "accuracy = clf1.score(X_test,y_test)\n",
    "print(\"Accuracy\"+str(accuracy))\n",
    "kdata.append(2000)\n",
    "accuracylist.append(accuracy)"
   ]
  },
  {
   "cell_type": "code",
   "execution_count": 150,
   "metadata": {
    "collapsed": false
   },
   "outputs": [
    {
     "name": "stdout",
     "output_type": "stream",
     "text": [
      "Accuracy 0.445811965812\n"
     ]
    }
   ],
   "source": [
    "clf1 = neighbors.KNeighborsClassifier(n_neighbors=2500)\n",
    "X_train, X_test, y_train, y_test = train_test_split(features, labels, test_size = 0.2)\n",
    "clf1.fit(X_train,y_train)\n",
    "accuracy = clf1.score(X_test,y_test)\n",
    "print(\"Accuracy \"+str(accuracy))\n",
    "kdata.append(2500)\n",
    "accuracylist.append(accuracy)"
   ]
  },
  {
   "cell_type": "code",
   "execution_count": 151,
   "metadata": {
    "collapsed": false
   },
   "outputs": [
    {
     "name": "stdout",
     "output_type": "stream",
     "text": [
      "Accuracy 0.46358974359\n"
     ]
    }
   ],
   "source": [
    "clf2 = neighbors.KNeighborsClassifier(n_neighbors=3000)\n",
    "X_train, X_test, y_train, y_test = train_test_split(features, labels, test_size = 0.2)\n",
    "clf2.fit(X_train,y_train)\n",
    "accuracy = clf1.score(X_test,y_test)\n",
    "print(\"Accuracy \"+str(accuracy))\n",
    "kdata.append(3000)\n",
    "accuracylist.append(accuracy)"
   ]
  },
  {
   "cell_type": "code",
   "execution_count": 152,
   "metadata": {
    "collapsed": false
   },
   "outputs": [
    {
     "name": "stdout",
     "output_type": "stream",
     "text": [
      "Accuracy 0.474188034188\n"
     ]
    }
   ],
   "source": [
    "clf1 = neighbors.KNeighborsClassifier(n_neighbors=3500)\n",
    "X_train, X_test, y_train, y_test = train_test_split(features, labels, test_size = 0.2)\n",
    "clf1.fit(X_train,y_train)\n",
    "accuracy = clf1.score(X_test,y_test)\n",
    "print(\"Accuracy \"+str(accuracy))\n",
    "kdata.append(3500)\n",
    "accuracylist.append(accuracy)"
   ]
  },
  {
   "cell_type": "code",
   "execution_count": 153,
   "metadata": {
    "collapsed": false
   },
   "outputs": [
    {
     "name": "stdout",
     "output_type": "stream",
     "text": [
      "Accuracy0.459145299145\n"
     ]
    }
   ],
   "source": [
    "clf2 = neighbors.KNeighborsClassifier(n_neighbors=4000)\n",
    "X_train, X_test, y_train, y_test = train_test_split(features, labels, test_size = 0.2)\n",
    "clf2.fit(X_train,y_train)\n",
    "accuracy = clf1.score(X_test,y_test)\n",
    "print(\"Accuracy\"+str(accuracy))\n",
    "kdata.append(4000)\n",
    "accuracylist.append(accuracy)"
   ]
  },
  {
   "cell_type": "code",
   "execution_count": 154,
   "metadata": {
    "collapsed": false
   },
   "outputs": [
    {
     "name": "stdout",
     "output_type": "stream",
     "text": [
      "Accuracy0.457777777778\n"
     ]
    }
   ],
   "source": [
    "clf1 = neighbors.KNeighborsClassifier(n_neighbors=4500)\n",
    "X_train, X_test, y_train, y_test = train_test_split(features, labels, test_size = 0.2)\n",
    "clf1.fit(X_train,y_train)\n",
    "accuracy = clf1.score(X_test,y_test)\n",
    "print(\"Accuracy\"+str(accuracy))\n",
    "kdata.append(4500)\n",
    "accuracylist.append(accuracy)"
   ]
  },
  {
   "cell_type": "code",
   "execution_count": 155,
   "metadata": {
    "collapsed": false
   },
   "outputs": [
    {
     "name": "stdout",
     "output_type": "stream",
     "text": [
      "Accuracy0.458803418803\n"
     ]
    }
   ],
   "source": [
    "clf2 = neighbors.KNeighborsClassifier(n_neighbors=5000)\n",
    "X_train, X_test, y_train, y_test = train_test_split(features, labels, test_size = 0.2)\n",
    "clf2.fit(X_train,y_train)\n",
    "accuracy = clf1.score(X_test,y_test)\n",
    "print(\"Accuracy\"+str(accuracy))\n",
    "kdata.append(5000)\n",
    "accuracylist.append(accuracy)"
   ]
  },
  {
   "cell_type": "code",
   "execution_count": 157,
   "metadata": {
    "collapsed": false
   },
   "outputs": [
    {
     "name": "stdout",
     "output_type": "stream",
     "text": [
      "Accuracy0.46188034188\n"
     ]
    }
   ],
   "source": [
    "clf1 = neighbors.KNeighborsClassifier(n_neighbors=5500)\n",
    "X_train, X_test, y_train, y_test = train_test_split(features, labels, test_size = 0.2)\n",
    "clf1.fit(X_train,y_train)\n",
    "accuracy = clf1.score(X_test,y_test)\n",
    "print(\"Accuracy\"+str(accuracy))\n",
    "kdata.append(5500)\n",
    "accuracylist.append(accuracy)"
   ]
  },
  {
   "cell_type": "code",
   "execution_count": 158,
   "metadata": {
    "collapsed": false
   },
   "outputs": [
    {
     "name": "stdout",
     "output_type": "stream",
     "text": [
      "Accuracy0.476923076923\n"
     ]
    }
   ],
   "source": [
    "clf2 = neighbors.KNeighborsClassifier(n_neighbors=6000)\n",
    "X_train, X_test, y_train, y_test = train_test_split(features, labels, test_size = 0.2)\n",
    "clf2.fit(X_train,y_train)\n",
    "accuracy = clf1.score(X_test,y_test)\n",
    "print(\"Accuracy\"+str(accuracy))\n",
    "kdata.append(6000)\n",
    "accuracylist.append(accuracy)"
   ]
  },
  {
   "cell_type": "code",
   "execution_count": 159,
   "metadata": {
    "collapsed": false
   },
   "outputs": [
    {
     "name": "stdout",
     "output_type": "stream",
     "text": [
      "Accuracy0.454358974359\n"
     ]
    }
   ],
   "source": [
    "clf1 = neighbors.KNeighborsClassifier(n_neighbors=6500)\n",
    "X_train, X_test, y_train, y_test = train_test_split(features, labels, test_size = 0.2)\n",
    "clf1.fit(X_train,y_train)\n",
    "accuracy = clf1.score(X_test,y_test)\n",
    "print(\"Accuracy\"+str(accuracy))\n",
    "kdata.append(6500)\n",
    "accuracylist.append(accuracy)"
   ]
  },
  {
   "cell_type": "code",
   "execution_count": 160,
   "metadata": {
    "collapsed": false
   },
   "outputs": [
    {
     "name": "stdout",
     "output_type": "stream",
     "text": [
      "Accuracy0.473846153846\n"
     ]
    }
   ],
   "source": [
    "clf2 = neighbors.KNeighborsClassifier(n_neighbors=7000)\n",
    "X_train, X_test, y_train, y_test = train_test_split(features, labels, test_size = 0.2)\n",
    "clf2.fit(X_train,y_train)\n",
    "accuracy = clf1.score(X_test,y_test)\n",
    "print(\"Accuracy\"+str(accuracy))\n",
    "kdata.append(7000)\n",
    "accuracylist.append(accuracy)"
   ]
  },
  {
   "cell_type": "code",
   "execution_count": 161,
   "metadata": {
    "collapsed": false
   },
   "outputs": [
    {
     "name": "stdout",
     "output_type": "stream",
     "text": [
      "Accuracy0.451623931624\n"
     ]
    }
   ],
   "source": [
    "clf1 = neighbors.KNeighborsClassifier(n_neighbors=7500)\n",
    "X_train, X_test, y_train, y_test = train_test_split(features, labels, test_size = 0.2)\n",
    "clf1.fit(X_train,y_train)\n",
    "accuracy = clf1.score(X_test,y_test)\n",
    "print(\"Accuracy\"+str(accuracy))\n",
    "kdata.append(7500)\n",
    "accuracylist.append(accuracy)"
   ]
  },
  {
   "cell_type": "code",
   "execution_count": 162,
   "metadata": {
    "collapsed": false
   },
   "outputs": [
    {
     "name": "stdout",
     "output_type": "stream",
     "text": [
      "Accuracy0.456068376068\n"
     ]
    }
   ],
   "source": [
    "clf2 = neighbors.KNeighborsClassifier(n_neighbors=8000)\n",
    "X_train, X_test, y_train, y_test = train_test_split(features, labels, test_size = 0.2)\n",
    "clf2.fit(X_train,y_train)\n",
    "accuracy = clf1.score(X_test,y_test)\n",
    "print(\"Accuracy\"+str(accuracy))\n",
    "kdata.append(8000)\n",
    "accuracylist.append(accuracy)"
   ]
  },
  {
   "cell_type": "code",
   "execution_count": 163,
   "metadata": {
    "collapsed": false
   },
   "outputs": [
    {
     "name": "stdout",
     "output_type": "stream",
     "text": [
      "Accuracy0.464615384615\n"
     ]
    }
   ],
   "source": [
    "clf1 = neighbors.KNeighborsClassifier(n_neighbors=8500)\n",
    "X_train, X_test, y_train, y_test = train_test_split(features, labels, test_size = 0.2)\n",
    "clf1.fit(X_train,y_train)\n",
    "accuracy = clf1.score(X_test,y_test)\n",
    "print(\"Accuracy\"+str(accuracy))\n",
    "kdata.append(8500)\n",
    "accuracylist.append(accuracy)"
   ]
  },
  {
   "cell_type": "code",
   "execution_count": 164,
   "metadata": {
    "collapsed": false
   },
   "outputs": [
    {
     "name": "stdout",
     "output_type": "stream",
     "text": [
      "Accuracy0.463931623932\n"
     ]
    }
   ],
   "source": [
    "clf1 = neighbors.KNeighborsClassifier(n_neighbors=9000)\n",
    "X_train, X_test, y_train, y_test = train_test_split(features, labels, test_size = 0.2)\n",
    "clf1.fit(X_train,y_train)\n",
    "accuracy = clf1.score(X_test,y_test)\n",
    "print(\"Accuracy\"+str(accuracy))\n",
    "kdata.append(9000)\n",
    "accuracylist.append(accuracy)"
   ]
  },
  {
   "cell_type": "code",
   "execution_count": 165,
   "metadata": {
    "collapsed": false
   },
   "outputs": [
    {
     "name": "stdout",
     "output_type": "stream",
     "text": [
      "Accuracy0.469401709402\n"
     ]
    }
   ],
   "source": [
    "clf1 = neighbors.KNeighborsClassifier(n_neighbors=9500)\n",
    "X_train, X_test, y_train, y_test = train_test_split(features, labels, test_size = 0.2)\n",
    "clf1.fit(X_train,y_train)\n",
    "accuracy = clf1.score(X_test,y_test)\n",
    "print(\"Accuracy\"+str(accuracy))\n",
    "kdata.append(1000)\n",
    "accuracylist.append(accuracy)"
   ]
  },
  {
   "cell_type": "code",
   "execution_count": 166,
   "metadata": {
    "collapsed": false
   },
   "outputs": [
    {
     "name": "stdout",
     "output_type": "stream",
     "text": [
      "Accuracy0.444102564103\n"
     ]
    }
   ],
   "source": [
    "clf1 = neighbors.KNeighborsClassifier(n_neighbors=10000)\n",
    "X_train, X_test, y_train, y_test = train_test_split(features, labels, test_size = 0.2)\n",
    "clf1.fit(X_train,y_train)\n",
    "accuracy = clf1.score(X_test,y_test)\n",
    "print(\"Accuracy\"+str(accuracy))\n",
    "kdata.append(10000)\n",
    "accuracylist.append(accuracy)"
   ]
  },
  {
   "cell_type": "code",
   "execution_count": 167,
   "metadata": {
    "collapsed": false
   },
   "outputs": [
    {
     "name": "stdout",
     "output_type": "stream",
     "text": [
      "In Gaussian NB\n",
      "0.400683760684\n"
     ]
    }
   ],
   "source": [
    "from sklearn.naive_bayes import GaussianNB\n",
    "clfnb = GaussianNB()\n",
    "clfnb.fit(X_train, y_train)\n",
    "accuracyNB = clfnb.score(X_test,y_test)\n",
    "print(\"In Gaussian NB\")\n",
    "print (accuracyNB)"
   ]
  },
  {
   "cell_type": "code",
   "execution_count": 172,
   "metadata": {
    "collapsed": false
   },
   "outputs": [
    {
     "name": "stdout",
     "output_type": "stream",
     "text": [
      "In KNN plus Trunkcated\n",
      "0.444102564103\n"
     ]
    }
   ],
   "source": [
    "##WITH TruncatedSVD + KNN\n",
    "from sklearn.decomposition import PCA, FastICA,TruncatedSVD\n",
    "from sklearn.pipeline import Pipeline\n",
    "trun = TruncatedSVD()\n",
    "dm_reductions = [trun] \n",
    "clf = neighbors.KNeighborsClassifier(n_neighbors=6000)\n",
    "clf_details = [clf]\n",
    "estimators = [('dm_reduce', trun), ('clf', clf)]\n",
    "pipeline = Pipeline(estimators)        \n",
    "best_pipe = pipeline.fit(X_train, y_train)\n",
    "bestAccuracy = pipeline.score(X_test,y_test)\n",
    "print(\"In KNN plus Trunkcated\")\n",
    "print(bestAccuracy)"
   ]
  },
  {
   "cell_type": "code",
   "execution_count": 173,
   "metadata": {
    "collapsed": false
   },
   "outputs": [
    {
     "name": "stdout",
     "output_type": "stream",
     "text": [
      "In KNN plus PCA\n",
      "0.444102564103\n"
     ]
    }
   ],
   "source": [
    "##WITH PCA + KNN\n",
    "from sklearn.decomposition import PCA, FastICA,TruncatedSVD\n",
    "from sklearn.pipeline import Pipeline\n",
    "pca = PCA()\n",
    "dm_reductions = [pca]  \n",
    "clf_details = [clf]\n",
    "estimators = [('dm_reduce', pca), ('clf', clf)]\n",
    "pipeline = Pipeline(estimators)        \n",
    "best_pipe = pipeline.fit(X_train, y_train)\n",
    "bestAccuracy = pipeline.score(X_test,y_test)\n",
    "print(\"In KNN plus PCA\")\n",
    "print(bestAccuracy)"
   ]
  },
  {
   "cell_type": "code",
   "execution_count": 174,
   "metadata": {
    "collapsed": false
   },
   "outputs": [
    {
     "name": "stdout",
     "output_type": "stream",
     "text": [
      "In Random Forest 0.873162393162\n"
     ]
    }
   ],
   "source": [
    "from sklearn.ensemble import RandomForestClassifier\n",
    "clf_random = RandomForestClassifier(n_jobs=2)\n",
    "clf_random.fit(X_train, y_train)\n",
    "accuracyRF = clf_random.score(X_test,y_test)\n",
    "print(\"In Random Forest \"+str(accuracyRF))"
   ]
  },
  {
   "cell_type": "code",
   "execution_count": 175,
   "metadata": {
    "collapsed": false
   },
   "outputs": [
    {
     "name": "stdout",
     "output_type": "stream",
     "text": [
      "In Random Forest 0.887863247863\n"
     ]
    }
   ],
   "source": [
    "from sklearn.ensemble import RandomForestClassifier\n",
    "clf_random = RandomForestClassifier(n_jobs=15)\n",
    "clf_random.fit(X_train, y_train)\n",
    "accuracyRF = clf_random.score(X_test,y_test)\n",
    "print(\"In Random Forest \"+str(accuracyRF))"
   ]
  },
  {
   "cell_type": "code",
   "execution_count": 176,
   "metadata": {
    "collapsed": false
   },
   "outputs": [
    {
     "name": "stdout",
     "output_type": "stream",
     "text": [
      "In Random Forest 0.893333333333\n"
     ]
    }
   ],
   "source": [
    "from sklearn.ensemble import RandomForestClassifier\n",
    "clf_random = RandomForestClassifier(n_jobs=20)\n",
    "clf_random.fit(X_train, y_train)\n",
    "accuracyRF = clf_random.score(X_test,y_test)\n",
    "print(\"In Random Forest \"+str(accuracyRF))"
   ]
  },
  {
   "cell_type": "code",
   "execution_count": null,
   "metadata": {
    "collapsed": false
   },
   "outputs": [],
   "source": [
    "!pip install plotly"
   ]
  },
  {
   "cell_type": "code",
   "execution_count": null,
   "metadata": {
    "collapsed": false
   },
   "outputs": [],
   "source": [
    "import plotly\n",
    "import plotly.plotly as py\n",
    "import plotly.graph_objs as go\n",
    "\n",
    "plotly.tools.set_credentials_file(username='sucheta', api_key='wKc3kuWFZ1wwp3buduFr')\n",
    "\n",
    "random_x = [int(i) for i in kdata]\n",
    "print(random_x)\n",
    "random_y = [float(i)*100 for i in accuracylist]\n",
    "print(random_y)\n",
    "trace0 = go.Scatter(\n",
    "    x = random_x,\n",
    "    y = random_y,\n",
    "    mode = 'lines',\n",
    "    name = 'lines'\n",
    ")\n",
    "data = [trace0]\n",
    "\n",
    "py.iplot(data, filename='KNN K value vs Accuracy')"
   ]
  },
  {
   "cell_type": "code",
   "execution_count": 177,
   "metadata": {
    "collapsed": false
   },
   "outputs": [
    {
     "name": "stdout",
     "output_type": "stream",
     "text": [
      "In Random Forest 0.893333333333\n"
     ]
    }
   ],
   "source": [
    "from sklearn.ensemble import AdaBoostClassifier\n",
    "clf = AdaBoostClassifier(n_estimators=100)\n",
    "clf.fit(X_train, y_train)\n",
    "accuracyAdaBoost = clf_random.score(X_test,y_test)\n",
    "print(\"In Random Forest \"+str(accuracyAdaBoost))"
   ]
  },
  {
   "cell_type": "code",
   "execution_count": null,
   "metadata": {
    "collapsed": true
   },
   "outputs": [],
   "source": []
  },
  {
   "cell_type": "code",
   "execution_count": null,
   "metadata": {
    "collapsed": false
   },
   "outputs": [],
   "source": [
    "from sklearn.metrics import confusion_matrix\n",
    "labels = [\"+1\", \"0\", \"-1\"]\n",
    "cm = confusion_matrix(y_test, clf.predict(X_test), labels)\n",
    "print(matrix1)"
   ]
  },
  {
   "cell_type": "code",
   "execution_count": null,
   "metadata": {
    "collapsed": true
   },
   "outputs": [],
   "source": []
  },
  {
   "cell_type": "code",
   "execution_count": null,
   "metadata": {
    "collapsed": false
   },
   "outputs": [],
   "source": [
    "!pip install seaborn"
   ]
  },
  {
   "cell_type": "code",
   "execution_count": null,
   "metadata": {
    "collapsed": true
   },
   "outputs": [],
   "source": [
    "import matplotlib.pyplot as plt\n",
    "import numpy as np\n",
    "\n",
    "import plotly.plotly as py\n",
    "import plotly.tools as tls\n",
    "\n",
    "mpl_fig = plt.figure()\n",
    "y = [(0.453623188406*100), (0.766045548654*100), (0.78985507246*100), (0.847412008282*100)]\n",
    "#x = ['KNN','Adaboost','GaussianNB','RandomForest']\n",
    "x = [0,1,2,3]\n",
    "\n",
    "width = 1/5\n",
    "plt.bar(x, y, width, color=(0.2588,0.4433,1.0))\n",
    "#fig = plt.gcf()\n",
    "#plot_url = py.plot_mpl(fig, filename='surendra_graph1')\n",
    "plt.show()"
   ]
  },
  {
   "cell_type": "code",
   "execution_count": 143,
   "metadata": {
    "collapsed": false
   },
   "outputs": [
    {
     "data": {
      "image/png": "[encoded data removed]",
      "text/plain": [
       "<matplotlib.figure.Figure at 0x144c3fa2a90>"
      ]
     },
     "metadata": {},
     "output_type": "display_data"
    }
   ],
   "source": [
    "import matplotlib.pyplot as plt\n",
    "import numpy as np\n",
    "\n",
    "import plotly.plotly as py\n",
    "import plotly.tools as tls\n",
    "\n",
    "mpl_fig = plt.figure()\n",
    "y = [(0.476923076923*100), (0.873333333333*100), (0.400683760684*100), (0.893162393162*100)]\n",
    "#x = ['KNN','Adaboost','GaussianNB','RandomForest']\n",
    "x = [0,1,2,3]\n",
    "\n",
    "width = 1/5\n",
    "plt.bar(x, y, width, color=(0.2588,0.4433,1.0))\n",
    "#fig = plt.gcf()\n",
    "#plot_url = py.plot_mpl(fig, filename='surendra_graph1')\n",
    "plt.show()"
   ]
  },
  {
   "cell_type": "code",
   "execution_count": 182,
   "metadata": {
    "collapsed": false
   },
   "outputs": [
    {
     "data": {
      "text/html": [
       "<iframe id=\"igraph\" scrolling=\"no\" style=\"border:none;\" seamless=\"seamless\" src=\"https://plot.ly/~sucheta/14.embed\" height=\"525px\" width=\"100%\"></iframe>"
      ],
      "text/plain": [
       "<plotly.tools.PlotlyDisplay object>"
      ]
     },
     "execution_count": 182,
     "metadata": {},
     "output_type": "execute_result"
    }
   ],
   "source": [
    "import plotly.plotly as py\n",
    "import plotly.graph_objs as go\n",
    "\n",
    "trace0 = go.Bar(\n",
    "    x = ['KNN','Adaboost','GaussianNB','RandomForest'],\n",
    "    y = [(0.476923076923*100), (0.873333333333*100), (0.400683760684*100), (0.893162393162*100)],\n",
    "    marker=dict(\n",
    "        color=['rgba(204,204,204,1)', 'rgba(204,204,204,1)',\n",
    "               'rgba(204,204,204,1)', 'rgba(222,45,38,0.8)',\n",
    "               'rgba(204,204,204,1)']),\n",
    "    width=1/5\n",
    ")\n",
    "\n",
    "data = [trace0]\n",
    "layout = go.Layout(\n",
    "    title='Different Classifiers for Prediction Model',\n",
    ")\n",
    "\n",
    "fig = go.Figure(data=data, layout=layout)\n",
    "py.iplot(fig, filename='suchet_color')"
   ]
  },
  {
   "cell_type": "code",
   "execution_count": 183,
   "metadata": {
    "collapsed": false
   },
   "outputs": [
    {
     "name": "stdout",
     "output_type": "stream",
     "text": [
      "In SVM 0.893333333333\n"
     ]
    }
   ],
   "source": [
    "from sklearn import svm\n",
    "clf = svm.SVC()\n",
    "clf.fit(X_train, y_train)\n",
    "accuracy = clf_random.score(X_test,y_test)\n",
    "print(\"In SVM \"+str(accuracy))"
   ]
  },
  {
   "cell_type": "code",
   "execution_count": 199,
   "metadata": {
    "collapsed": false
   },
   "outputs": [
    {
     "name": "stdout",
     "output_type": "stream",
     "text": [
      "18\n",
      "24)\n"
     ]
    }
   ],
   "source": [
    "import re\n",
    "log =  \"10.1.1.18 > 10.1.1.24) ns3\"\n",
    "test = re.search('10.1.1.(.+?) > 10.1.1.(.+?) ns3',log)\n",
    "if(test is None):\n",
    "    pass\n",
    "else:\n",
    "    print(test.group(1))\n",
    "    print(test.group(2))"
   ]
  },
  {
   "cell_type": "code",
   "execution_count": null,
   "metadata": {
    "collapsed": true
   },
   "outputs": [],
   "source": []
  }
 ],
 "metadata": {
  "anaconda-cloud": {},
  "kernelspec": {
   "display_name": "Python [conda root]",
   "language": "python",
   "name": "conda-root-py"
  },
  "language_info": {
   "codemirror_mode": {
    "name": "ipython",
    "version": 3
   },
   "file_extension": ".py",
   "mimetype": "text/x-python",
   "name": "python",
   "nbconvert_exporter": "python",
   "pygments_lexer": "ipython3",
   "version": "3.5.2"
  }
 },
 "nbformat": 4,
 "nbformat_minor": 1
}
