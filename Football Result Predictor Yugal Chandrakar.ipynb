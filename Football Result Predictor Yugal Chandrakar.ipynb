{
  "metadata": {
    "kernelspec": {
      "display_name": "Python 3",
      "language": "python",
      "name": "python3"
    },
    "language_info": {
      "codemirror_mode": {
        "name": "ipython",
        "version": 3
      },
      "file_extension": ".py",
      "mimetype": "text/x-python",
      "name": "python",
      "nbconvert_exporter": "python",
      "pygments_lexer": "ipython3",
      "version": "3.6.0"
    }
  },
  "nbformat": 4,
  "nbformat_minor": 0,
  "cells": [
    {
      "cell_type": "code",
      "source": "import pandas as pd\nimport numpy as np\nimport sqlite3\nfrom sklearn import neighbors\nfrom sklearn.linear_model import LogisticRegression\nfrom sklearn.svm import SVC\nfrom sklearn.tree import DecisionTreeClassifier\nfrom sklearn.decomposition import PCA\nfrom random import sample\nfrom time import time\nimport sklearn.ensemble as sk\nimport sklearn.metrics as skm\nimport pylab as pl\nimport matplotlib.pyplot as plt",
      "execution_count": 2,
      "outputs": [],
      "metadata": {}
    },
    {
      "cell_type": "code",
      "source": "# Data Loading\ndatabase ='../input/database.sqlite'\nconnection = sqlite3.connect(database)\nmatch = pd.read_sql(\"SELECT * FROM Match;\", connection)",
      "execution_count": 3,
      "outputs": [],
      "metadata": {}
    },
    {
      "cell_type": "code",
      "source": "#Dropping unwanted NaN rows from the dataset\nselectColumns=['home_team_api_id', 'away_team_api_id', 'home_team_goal', 'away_team_goal', \n                'date',  'country_id', 'league_id', 'season', 'stage']\nmatch.dropna(subset = selectColumns, inplace = True)",
      "execution_count": 4,
      "outputs": [],
      "metadata": {}
    },
    {
      "cell_type": "code",
      "source": "# Data Selection\nselectColumns=[\n               'home_team_api_id','away_team_api_id','home_team_goal','away_team_goal','date',\n               'country_id','league_id','season','stage','B365H','BWH','IWH','LBH','PSH',\n               'B365D','BWD','IWD','LBD','PSD','B365A','BWA','IWA','LBA', 'PSA','home_player_7',\n               'away_player_7','home_player_10','home_player_11','away_player_10','away_player_11'\n              ]\n\n#Selecting important columns only\nmBet=match[selectColumns]\n\n#Converting data values to required format\nmBet['date'] = pd.to_datetime(mBet['date'])\nmBet = mBet.assign(month=mBet['date'].dt.month)\nmBet['date'] = mBet['date'].dt.year\nmBet['season']= mBet['season'].str[:4]\n\n# Replacing null values with mean values\nmBet['BWH'].fillna(mBet['BWH'].mean(),inplace=True)\nmBet['BWA'].fillna(mBet['BWA'].mean(),inplace=True)\nmBet['BWD'].fillna(mBet['BWD'].mean(),inplace=True)\nmBet['IWH'].fillna(mBet['BWH'].mean(),inplace=True)\nmBet['IWA'].fillna(mBet['BWA'].mean(),inplace=True)\nmBet['IWD'].fillna(mBet['BWD'].mean(),inplace=True)\nmBet['LBH'].fillna(mBet['BWH'].mean(),inplace=True)\nmBet['LBA'].fillna(mBet['BWA'].mean(),inplace=True)\nmBet['LBD'].fillna(mBet['BWD'].mean(),inplace=True)\nmBet['PSH'].fillna(mBet['BWH'].mean(),inplace=True)\nmBet['PSA'].fillna(mBet['BWA'].mean(),inplace=True)\nmBet['PSD'].fillna(mBet['BWD'].mean(),inplace=True)\nmBet['B365H'].fillna(mBet['B365H'].mean(),inplace=True)\nmBet['B365A'].fillna(mBet['B365A'].mean(),inplace=True)\nmBet['B365D'].fillna(mBet['B365D'].mean(),inplace=True)\nmBet.fillna(0,inplace=True)\n\nmatchData=mBet",
      "execution_count": 5,
      "outputs": [
        {
          "name": "stderr",
          "output_type": "stream",
          "text": "/opt/conda/bin/ipython:13: SettingWithCopyWarning: \nA value is trying to be set on a copy of a slice from a DataFrame.\nTry using .loc[row_indexer,col_indexer] = value instead\n\nSee the caveats in the documentation: http://pandas.pydata.org/pandas-docs/stable/indexing.html#indexing-view-versus-copy\n"
        }
      ],
      "metadata": {}
    },
    {
      "cell_type": "code",
      "source": "# Creating train, test and validate data from a single data\ndef train_test_validate_split(dataframe, trainPercent=.7, validatePercent=.15, seed=None):\n    # Referred from StackOverflow\n    np.random.seed(seed)\n    perm = np.random.permutation(dataframe.index)\n    length = len(dataframe)\n    trainEnd = int(trainPercent * length)\n    validateEnd = int(validatePercent * length) + trainEnd\n    train = dataframe.ix[perm[:trainEnd]]\n    test = dataframe.ix[perm[validateEnd:]]\n    validate = dataframe.ix[perm[trainEnd:validateEnd]]\n    return train, test, validate\n\nnp.random.seed([243])\ntrain, test, validate = train_test_validate_split(matchData)\n\n# Length of all different data\nprint(\"Length of Train data %d\" %len(train))\nprint(\"Length of Test data %d\" %len(test))\nprint(\"Length of Validate data %d\" %len(validate))",
      "execution_count": 19,
      "outputs": [
        {
          "name": "stdout",
          "output_type": "stream",
          "text": "Length of Train data 18185\nLength of Test data 3898\nLength of Validate data 3896\n"
        }
      ],
      "metadata": {}
    },
    {
      "cell_type": "code",
      "source": "def fullTime(h,a):\n    if (h>a) : \n        return \"Win\"\n    elif (h<a) : \n        return \"Loss\"\n    else:\n        return \"Draw\"\n# Fetching full time results of the different data sets i.e. Test, Train and Validate\ntestResult=test.apply(lambda row: fullTime(row['home_team_goal'], row['away_team_goal']), axis=1)\ntrainResult=train.apply(lambda row: fullTime(row['home_team_goal'], row['away_team_goal']), axis=1)\nvalidateResult=validate.apply(lambda row: fullTime(row['home_team_goal'], row['away_team_goal']), axis=1)\n\n# Deleting goals column from all data, so that we can predict and get desired results\n# If we don't remove them, it'll give actual results which will fail our purpose\n\ndel train['home_team_goal']\ndel train['away_team_goal']\ndel test['home_team_goal']\ndel test['away_team_goal']\ndel validate['home_team_goal']\ndel validate['away_team_goal']",
      "execution_count": 20,
      "outputs": [],
      "metadata": {}
    },
    {
      "cell_type": "code",
      "source": "trainResult.value_counts()",
      "execution_count": 21,
      "outputs": [
        {
          "data": {
            "text/plain": "Win     8355\nLoss    5210\nDraw    4620\ndtype: int64"
          },
          "execution_count": 21,
          "metadata": {},
          "output_type": "execute_result"
        }
      ],
      "metadata": {}
    },
    {
      "cell_type": "code",
      "source": "# Applying the different classifier's and predicting the results\n\n# clf = neighbors.KNeighborsClassifier(30, weights = 'uniform') \n# Results were validation set = 0.463715 & test set = 0.459407 # Dropper it\n\n#clf=LogisticRegression(random_state=0)\n# Results were validation set = 0.520115 & test set = 0.514813\n\n#clf=LogisticRegression(penalty='l1', C=10)\n# Results were validation set = 0.522618 & test set = 0.520970 # Not getting desired results, Dropped it\n\n# clf= DecisionTreeClassifier(random_state=100)\n# Results were validation set = 0.397690 & test set = 0.402462 # Worst Result\n\n# clf=SVC(kernel='rbf', random_state=0, gamma=.01, C=1)\n# Results were validation set = 0.461983 & test set = 0.455175 # Not getting desired results, Dropped it\n\n# Going forward with Random Forest Classfier and more tuning\n\n# When adding different parameters or levers, accuracy kept increasing\n# With n_estimators only accuracy was 0.501542 & 0.493981\n# When adding oob_score nothing much changed  accuracy was 0.502 & 0.495 but processing time was somewhat faster than before\n# When adding random_state accuracy was 0.510491 & 0.495575\n# When adding max_features accuracy didn't changed 0.510491 & 0.495575\n# When added min_samples_leaf, accuracy made a good gap (atleast for me) from before 0.520693 & 0.514044\n# By increasing n_estimators value from 100->1000 (10 Times), processing time increased and better accuracy 0.524350 & 0.530589\n# By increasing n_estimators value from 1000->5000 (5 Times), not much difference in accuracy 0.524158 & 0.531743\n# but processing time is unacceptably long.\n\n\n\n\n\nclf = sk.RandomForestClassifier(n_estimators=1000, oob_score = True,random_state =42,max_features = \"auto\", min_samples_leaf = 50)\nmodel = clf.fit(train, trainResult)",
      "execution_count": 30,
      "outputs": [],
      "metadata": {}
    },
    {
      "cell_type": "code",
      "source": "validatePredictions = clf.predict(validate)\nprint(\"Calculated mean accuracy score of the Model for validation set = %f\" %(clf.score(validate, validateResult)))\n\ntestPredictions = clf.predict(test)\nprint(\"Calculated mean accuracy score of the Model for test set = %f\" %(clf.score(test, testResult)))",
      "execution_count": 27,
      "outputs": [
        {
          "name": "stdout",
          "output_type": "stream",
          "text": "Calculated mean accuracy score of the Model for validation set = 0.522074\nCalculated mean accuracy score of the Model for test set = 0.518471\n"
        }
      ],
      "metadata": {}
    },
    {
      "cell_type": "code",
      "source": "theResultofValidate = skm.confusion_matrix(validateResult,validatePredictions)\npl.matshow(theResultofValidate)\npl.title('Confusion matrix for Validate data\\n\\n')\npl.colorbar()\npl.show()\nprint('Prediction of Validate data')\npd.crosstab(validateResult, validatePredictions, rownames=['Actual Results'], colnames=['Predicted Results'])",
      "execution_count": 28,
      "outputs": [
        {
          "data": {
            "image/png": "[encoded data removed]",
            "text/plain": "<matplotlib.figure.Figure at 0x7fe76a71dfd0>"
          },
          "metadata": {},
          "output_type": "display_data"
        },
        {
          "name": "stdout",
          "output_type": "stream",
          "text": "Prediction of Validate data\n"
        },
        {
          "data": {
            "text/html": "<div>\n<table border=\"1\" class=\"dataframe\">\n  <thead>\n    <tr style=\"text-align: right;\">\n      <th>Predicted Results</th>\n      <th>Draw</th>\n      <th>Loss</th>\n      <th>Win</th>\n    </tr>\n    <tr>\n      <th>Actual Results</th>\n      <th></th>\n      <th></th>\n      <th></th>\n    </tr>\n  </thead>\n  <tbody>\n    <tr>\n      <th>Draw</th>\n      <td>3</td>\n      <td>190</td>\n      <td>795</td>\n    </tr>\n    <tr>\n      <th>Loss</th>\n      <td>2</td>\n      <td>428</td>\n      <td>698</td>\n    </tr>\n    <tr>\n      <th>Win</th>\n      <td>0</td>\n      <td>177</td>\n      <td>1603</td>\n    </tr>\n  </tbody>\n</table>\n</div>",
            "text/plain": "Predicted Results  Draw  Loss   Win\nActual Results                     \nDraw                  3   190   795\nLoss                  2   428   698\nWin                   0   177  1603"
          },
          "execution_count": 28,
          "metadata": {},
          "output_type": "execute_result"
        }
      ],
      "metadata": {}
    },
    {
      "cell_type": "code",
      "source": "theResultofTest = skm.confusion_matrix(testResult,testPredictions)\npl.matshow(theResultofTest)\npl.title('Confusion matrix for Test data\\n\\n')\npl.colorbar()\npl.show()\nprint('Prediction of Test data')\npd.crosstab(testResult, testPredictions, rownames=['Actual Results'], colnames=['Predicted Results'])",
      "execution_count": 29,
      "outputs": [
        {
          "data": {
            "image/png": "[encoded data removed]",
            "text/plain": "<matplotlib.figure.Figure at 0x7fe769237b70>"
          },
          "metadata": {},
          "output_type": "display_data"
        },
        {
          "name": "stdout",
          "output_type": "stream",
          "text": "Prediction of Test data\n"
        },
        {
          "data": {
            "text/html": "<div>\n<table border=\"1\" class=\"dataframe\">\n  <thead>\n    <tr style=\"text-align: right;\">\n      <th>Predicted Results</th>\n      <th>Draw</th>\n      <th>Loss</th>\n      <th>Win</th>\n    </tr>\n    <tr>\n      <th>Actual Results</th>\n      <th></th>\n      <th></th>\n      <th></th>\n    </tr>\n  </thead>\n  <tbody>\n    <tr>\n      <th>Draw</th>\n      <td>0</td>\n      <td>203</td>\n      <td>785</td>\n    </tr>\n    <tr>\n      <th>Loss</th>\n      <td>0</td>\n      <td>431</td>\n      <td>697</td>\n    </tr>\n    <tr>\n      <th>Win</th>\n      <td>3</td>\n      <td>189</td>\n      <td>1590</td>\n    </tr>\n  </tbody>\n</table>\n</div>",
            "text/plain": "Predicted Results  Draw  Loss   Win\nActual Results                     \nDraw                  0   203   785\nLoss                  0   431   697\nWin                   3   189  1590"
          },
          "execution_count": 29,
          "metadata": {},
          "output_type": "execute_result"
        }
      ],
      "metadata": {}
    },
    {
      "cell_type": "code",
      "source": null,
      "execution_count": null,
      "outputs": [],
      "metadata": {}
    }
  ]
}