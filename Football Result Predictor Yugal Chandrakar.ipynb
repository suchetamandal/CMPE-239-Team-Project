{
  "metadata": {
    "kernelspec": {
      "display_name": "Python 3",
      "language": "python",
      "name": "python3"
    },
    "language_info": {
      "codemirror_mode": {
        "name": "ipython",
        "version": 3
      },
      "file_extension": ".py",
      "mimetype": "text/x-python",
      "name": "python",
      "nbconvert_exporter": "python",
      "pygments_lexer": "ipython3",
      "version": "3.6.0"
    }
  },
  "nbformat": 4,
  "nbformat_minor": 0,
  "cells": [
    {
      "cell_type": "code",
      "source": "import pandas as pd\nimport numpy as np\nimport sqlite3\nimport warnings\nwarnings.filterwarnings('ignore')\nfrom sklearn import neighbors\nfrom sklearn.linear_model import LogisticRegression\nfrom sklearn.svm import SVC\nfrom sklearn.tree import DecisionTreeClassifier\nfrom sklearn.decomposition import PCA\nfrom random import sample\nfrom time import time\nimport sklearn.ensemble as sk\nimport sklearn.metrics as skm\nimport pylab as pl\nfrom sklearn.naive_bayes import MultinomialNB\nimport matplotlib.pyplot as plt",
      "execution_count": 1,
      "outputs": [],
      "metadata": {}
    },
    {
      "cell_type": "code",
      "source": "# Data Loading\ndatabase ='../input/database.sqlite'\nconnection = sqlite3.connect(database)\nmatch = pd.read_sql(\"SELECT * FROM Match;\", connection)",
      "execution_count": 2,
      "outputs": [],
      "metadata": {}
    },
    {
      "cell_type": "code",
      "source": "#Dropping unwanted NaN rows from the dataset\nselectColumns=['home_team_api_id', 'away_team_api_id', 'home_team_goal', 'away_team_goal', \n                'date',  'country_id', 'league_id', 'season', 'stage']\nmatch.dropna(subset = selectColumns, inplace = True)",
      "execution_count": 3,
      "outputs": [],
      "metadata": {}
    },
    {
      "cell_type": "code",
      "source": "# Data Selection\nselectColumns=[\n               'home_team_api_id','away_team_api_id','home_team_goal','away_team_goal','date',\n               'country_id','league_id','season','stage','B365H','BWH','IWH','LBH','PSH',\n               'B365D','BWD','IWD','LBD','PSD','B365A','BWA','IWA','LBA', 'PSA','home_player_7',\n               'away_player_7','home_player_10','home_player_11','away_player_10','away_player_11'\n              ]\n\n#Selecting important columns only\nmBet=match[selectColumns]\n\n#Converting data values to required format\nmBet['date'] = pd.to_datetime(mBet['date'])\nmBet = mBet.assign(month=mBet['date'].dt.month)\nmBet['date'] = mBet['date'].dt.year\nmBet['season']= mBet['season'].str[:4]\n\n# Replacing null values with mean values\nmBet['BWH'].fillna(mBet['BWH'].mean(),inplace=True)\nmBet['BWA'].fillna(mBet['BWA'].mean(),inplace=True)\nmBet['BWD'].fillna(mBet['BWD'].mean(),inplace=True)\nmBet['IWH'].fillna(mBet['BWH'].mean(),inplace=True)\nmBet['IWA'].fillna(mBet['BWA'].mean(),inplace=True)\nmBet['IWD'].fillna(mBet['BWD'].mean(),inplace=True)\nmBet['LBH'].fillna(mBet['BWH'].mean(),inplace=True)\nmBet['LBA'].fillna(mBet['BWA'].mean(),inplace=True)\nmBet['LBD'].fillna(mBet['BWD'].mean(),inplace=True)\nmBet['PSH'].fillna(mBet['BWH'].mean(),inplace=True)\nmBet['PSA'].fillna(mBet['BWA'].mean(),inplace=True)\nmBet['PSD'].fillna(mBet['BWD'].mean(),inplace=True)\nmBet['B365H'].fillna(mBet['B365H'].mean(),inplace=True)\nmBet['B365A'].fillna(mBet['B365A'].mean(),inplace=True)\nmBet['B365D'].fillna(mBet['B365D'].mean(),inplace=True)\nmBet.fillna(0,inplace=True)\n\nmatchData=mBet",
      "execution_count": 4,
      "outputs": [],
      "metadata": {}
    },
    {
      "cell_type": "code",
      "source": "# Creating train, test and validate data from a single data\ndef train_test_validate_split(dataframe, trainPercent=.7, validatePercent=.15, seed=None):\n    # Referred from StackOverflow\n    np.random.seed(seed)\n    perm = np.random.permutation(dataframe.index)\n    length = len(dataframe)\n    trainEnd = int(trainPercent * length)\n    validateEnd = int(validatePercent * length) + trainEnd\n    train = dataframe.ix[perm[:trainEnd]]\n    test = dataframe.ix[perm[validateEnd:]]\n    validate = dataframe.ix[perm[trainEnd:validateEnd]]\n    return train, test, validate\n\nnp.random.seed([243])\ntrain, test, validate = train_test_validate_split(matchData)\n\n# Length of all different data\nprint(\"Length of Train data %d\" %len(train))\nprint(\"Length of Test data %d\" %len(test))\nprint(\"Length of Validate data %d\" %len(validate))",
      "execution_count": 5,
      "outputs": [
        {
          "name": "stdout",
          "output_type": "stream",
          "text": "Length of Train data 18185\nLength of Test data 3898\nLength of Validate data 3896\n"
        }
      ],
      "metadata": {}
    },
    {
      "cell_type": "code",
      "source": "def fullTime(h,a):\n    if (h>a) : \n        return \"Win\"\n    elif (h<a) : \n        return \"Loss\"\n    else:\n        return \"Draw\"\n# Fetching full time results of the different data sets i.e. Test, Train and Validate\ntestResult=test.apply(lambda row: fullTime(row['home_team_goal'], row['away_team_goal']), axis=1)\ntrainResult=train.apply(lambda row: fullTime(row['home_team_goal'], row['away_team_goal']), axis=1)\nvalidateResult=validate.apply(lambda row: fullTime(row['home_team_goal'], row['away_team_goal']), axis=1)\n\n# Deleting goals column from all data, so that we can predict and get desired results\n# If we don't remove them, it'll give actual results which will fail our purpose\n\ndel train['home_team_goal']\ndel train['away_team_goal']\ndel test['home_team_goal']\ndel test['away_team_goal']\ndel validate['home_team_goal']\ndel validate['away_team_goal']",
      "execution_count": 6,
      "outputs": [],
      "metadata": {}
    },
    {
      "cell_type": "code",
      "source": "trainResult.value_counts()",
      "execution_count": 56,
      "outputs": [],
      "metadata": {}
    },
    {
      "cell_type": "code",
      "source": "# Applying the different classifier's and predicting the results\n\nclfKNN = neighbors.KNeighborsClassifier(30, weights = 'uniform') \n# Results were validation set = 0.463715 & test set = 0.459407 # Dropper it\n\n# clf=LogisticRegression(random_state=0)\n# Results were validation set = 0.520115 & test set = 0.514813\n\nclfLR=LogisticRegression(penalty='l1', C=10)\n# Results were validation set = 0.522618 & test set = 0.520970 # Not getting desired results, Dropped it\n\nclfDT= DecisionTreeClassifier(random_state=100)\n# Results were validation set = 0.397690 & test set = 0.402462 # Worst Result\n\nclfSVC=SVC(kernel='rbf', random_state=0, gamma=.01, C=1)\n# Results were validation set = 0.461983 & test set = 0.455175 # Not getting desired results, Dropped it\n\nclfMNB=MultinomialNB()\n\n# Going forward with Random Forest Classfier and more tuning\n\n# When adding different parameters or levers, accuracy kept increasing\n# With n_estimators only accuracy was 0.501542 & 0.493981\n# When adding oob_score nothing much changed  accuracy was 0.502 & 0.495 but processing time was somewhat faster than before\n# When adding random_state accuracy was 0.510491 & 0.495575\n# When adding max_features accuracy didn't changed 0.510491 & 0.495575\n# When added min_samples_leaf, accuracy made a good gap (atleast for me) from before 0.520693 & 0.514044\n# By increasing n_estimators value from 100->1000 (10 Times), processing time increased and better accuracy 0.524350 & 0.530589\n# By increasing n_estimators value from 1000->5000 (5 Times), not much difference in accuracy 0.524158 & 0.531743\n# but processing time is unacceptably long.\n\n\n\n\n\nclfRF = sk.RandomForestClassifier(n_estimators=1000, oob_score = True,random_state =42,max_features = \"auto\", min_samples_leaf = 50)\nmodel = clfRF.fit(train, trainResult)\nmodel = clfKNN.fit(train, trainResult)\nmodel = clfLR.fit(train, trainResult)\nmodel = clfDT.fit(train, trainResult)\nmodel = clfSVC.fit(train, trainResult)\nmodel = clfMNB.fit(train, trainResult)\n\nRF=clfRF.score(test, testResult)\nKNN=clfKNN.score(test, testResult)\nLR=clfLR.score(test, testResult)\nDT=clfDT.score(test, testResult)\nSVC=clfSVC.score(test, testResult)\nMNB=clfMNB.score(test, testResult)\n\nperf=[RF,KNN,LR,DT,SVC,MNB] # Values of different classifiers \n\nobjects = ('RF','KNN','LR','DT','SVC','MNB') # Names of different classifierss value\ny_pos = np.arange(len(objects))\nplt.ylim(0,0.60) # Increased y-axis limit for better visualization\nplt.bar(y_pos, perf, align='center', alpha=0.5)\nplt.xticks(y_pos, objects)\nplt.ylabel('Accuracy Scores')\nplt.title('Different Classifier Used')\n\n#print(RF)",
      "execution_count": 7,
      "outputs": [
        {
          "data": {
            "text/plain": "<matplotlib.text.Text at 0x7fce7e8222b0>"
          },
          "execution_count": 7,
          "metadata": {},
          "output_type": "execute_result"
        },
        {
          "data": {
            "image/png": "[encoded data removed]",
            "text/plain": "<matplotlib.figure.Figure at 0x7fce7d372f98>"
          },
          "metadata": {},
          "output_type": "display_data"
        }
      ],
      "metadata": {}
    },
    {
      "cell_type": "code",
      "source": "clfRF = sk.RandomForestClassifier(n_estimators=1000, oob_score = True,random_state =42,max_features = \"auto\", min_samples_leaf = 50)\nmodel = clfRF.fit(train, trainResult)\n\nvalidatePredictions = clfRF.predict(validate)\nprint(\"Calculated mean accuracy score of the Model for validation set = %f\" %(clfRF.score(validate, validateResult)))\n\ntestPredictions = clfRF.predict(test)\nprint(\"Calculated mean accuracy score of the Model for test set = %f\" %(clfRF.score(test, testResult)))",
      "execution_count": 39,
      "outputs": [],
      "metadata": {}
    },
    {
      "cell_type": "code",
      "source": "theResultofValidate = skm.confusion_matrix(validateResult,validatePredictions)\nf1=skm.f1_score()\npl.matshow(theResultofValidate)\npl.title('Confusion matrix for Validate data\\n\\n')\npl.colorbar()\npl.show()\nprint('Prediction of Validate data')\npd.crosstab(validateResult, validatePredictions, rownames=['Actual Results'], colnames=['Predicted Results'])",
      "execution_count": null,
      "outputs": [],
      "metadata": {}
    },
    {
      "cell_type": "code",
      "source": "theResultofTest = skm.confusion_matrix(testResult,testPredictions)\npl.matshow(theResultofTest)\npl.title('Confusion matrix for Test data\\n\\n')\npl.colorbar()\npl.show()\nprint('Prediction of Test data')\npd.crosstab(testResult, testPredictions, rownames=['Actual Results'], colnames=['Predicted Results'])",
      "execution_count": null,
      "outputs": [],
      "metadata": {}
    },
    {
      "cell_type": "code",
      "source": "import matplotlib.pyplot as plt; plt.rcdefaults()\nimport numpy as np\nimport matplotlib.pyplot as plt\n \nobjects = ('Python', 'C++', 'Java', 'Perl', 'Scala', 'Lisp')\ny_pos = np.arange(len(objects))\nperformance = [10,8,6,4,2,1]\n \nplt.bar(y_pos, performance, align='center', alpha=.2)\nplt.xticks(y_pos, objects)\nplt.ylabel('Usage')\nplt.title('Programming language usage')\nplt.ylim(0,12)\nplt.show()",
      "execution_count": 36,
      "outputs": [],
      "metadata": {}
    },
    {
      "cell_type": "code",
      "source": null,
      "execution_count": null,
      "outputs": [],
      "metadata": {}
    }
  ]
}